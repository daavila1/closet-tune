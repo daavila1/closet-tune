{
  "cells": [
    {
      "cell_type": "markdown",
      "metadata": {
        "id": "AWb3mtO4gz66"
      },
      "source": [
        "# Closet Tune - Fashion MNIST\n",
        "\n",
        "<div style='display: flex:'>\n",
        "<img src='https://github.com/zalandoresearch/fashion-mnist/raw/master/doc/img/fashion-mnist-sprite.png' width=400>\n",
        "</div>"
      ]
    },
    {
      "cell_type": "markdown",
      "metadata": {
        "id": "FajQXc0zMQKN"
      },
      "source": [
        "# 0. Libraries"
      ]
    },
    {
      "cell_type": "code",
      "execution_count": 2,
      "metadata": {
        "id": "_k1SRVuOMUMp"
      },
      "outputs": [],
      "source": [
        "# Usage of tensorflow is only for data importation pourposes\n",
        "import tensorflow as tf\n",
        "\n",
        "# Needed libraries and modules\n",
        "import numpy as np\n",
        "import pandas as pd\n",
        "import matplotlib.pyplot as plt\n",
        "import matplotlib.pyplot as plt\n",
        "import sklearn\n",
        "\n",
        "%matplotlib inline"
      ]
    },
    {
      "cell_type": "markdown",
      "metadata": {
        "id": "SrHfAS-RhQe4"
      },
      "source": [
        "# 1. Business Understanding\n"
      ]
    },
    {
      "cell_type": "markdown",
      "metadata": {
        "id": "mgcMXPFdi3V2"
      },
      "source": [
        "## 1.1. Problem Description:\n",
        "\n",
        "In this project, we address the challenge of classifying images of clothing items using the FASHION MNIST dataset. The main problem lies in developing a machine learning model capable of recognizing and categorizing different types of clothing, such as t-shirts, pants, shoes, and other fashion items, in grayscale images. This classification process is essential for various applications, from online fashion recommendation to inventory optimization in retail stores. The primary goal is to achieve accurate classification of clothing items, which will enhance the customer experience and provide significant value to the business."
      ]
    },
    {
      "cell_type": "markdown",
      "metadata": {
        "id": "jqTV3wS5jHtf"
      },
      "source": [
        "## 1.2. General Objective:\n",
        "The main objective of this project is to train an image classification model for the FASHION MNIST dataset.\n"
      ]
    },
    {
      "cell_type": "markdown",
      "metadata": {
        "id": "8TRa27pNj5K6"
      },
      "source": [
        "## 1.4. Specific Objectives:\n",
        "* Develop an image classification model with an accuracy greater than 85% on the FASHION MNIST dataset.\n",
        "* Create an app that allows users to draw on a canvas/upload images and receive predictions about the type of clothing."
      ]
    },
    {
      "cell_type": "markdown",
      "metadata": {
        "id": "GMBrLhCnkMAR"
      },
      "source": [
        "# 2. Data Understanding\n"
      ]
    },
    {
      "cell_type": "markdown",
      "metadata": {
        "id": "6rRXKvtDkg-6"
      },
      "source": [
        "## 2.1. About the Dataset\n",
        "\n",
        "* Context:\n",
        "\n",
        "    Fashion-MNIST is a dataset of Zalando's article images, consisting of a training set of 60,000 examples and a test set of 10,000 examples. Each example is a 28x28 pixel grayscale image associated with a label from 1 of 10 classes.\n",
        "    Zalando created Fashion-MNIST as a direct replacement for the original MNIST dataset to evaluate machine learning algorithms. It shares the same image size and structure of training and testing splits.\n",
        "\n",
        "    The original MNIST dataset primarily contains handwritten digits and is highly regarded by the Artificial Intelligence/Machine Learning/Data Science community, which uses it as a benchmark to validate their algorithms. In fact, MNIST is often the first dataset researchers test. It is said that: \"If it doesn't work on MNIST, it won't work at all.\"\n",
        "\n",
        "* Context:\n",
        "\n",
        "    Each image has a height and width of 28 pixels, totaling 784 pixels. Each pixel has a single associated value indicating the lightness or darkness of the pixel, where higher numbers represent darker shades. This pixel value is an integer ranging from 0 to 255. The training and testing datasets have a total of 785 columns. The first column contains the class labels representing the clothing item. The remaining columns contain the pixel values associated with the corresponding image.\n",
        "\n",
        "* Labels:\n",
        "\n",
        "    Each of the training and testing examples is assigned to one of these labels:\n",
        "    * 0 -> T-shirt/top\n",
        "    * 1 -> Trouser\n",
        "    * 2 -> Pullover\n",
        "    * 3 -> Dress\n",
        "    * 4 -> Coat\n",
        "    * 5 -> Sandal\n",
        "    * 6 -> Shirt\n",
        "    * 7 -> Sneaker\n",
        "    * 8 -> Bag\n",
        "    * 9 -> Ankle boot\n",
        "\n"
      ]
    },
    {
      "cell_type": "markdown",
      "metadata": {
        "id": "v31Q122KnCs9"
      },
      "source": [
        "## 2.2. Data exploration:"
      ]
    },
    {
      "cell_type": "markdown",
      "metadata": {
        "id": "XjUFyh2RegM7"
      },
      "source": [
        "First, we download the datasets with the images for training and testing."
      ]
    },
    {
      "cell_type": "code",
      "execution_count": 42,
      "metadata": {
        "colab": {
          "base_uri": "https://localhost:8080/"
        },
        "id": "Pf2kxBEla5nW",
        "outputId": "8cfcda03-356c-4064-cf5a-5317a565c856"
      },
      "outputs": [
        {
          "name": "stdout",
          "output_type": "stream",
          "text": [
            "Downloading...\n",
            "From (original): https://drive.google.com/uc?id=1rminmJ2df9TfNJMdoL6SFvOOrmg0cC-v\n",
            "From (redirected): https://drive.google.com/uc?id=1rminmJ2df9TfNJMdoL6SFvOOrmg0cC-v&confirm=t&uuid=403c47f3-bbc5-42df-b792-3dbac373f0fb\n",
            "To: /content/fashion-mnist_train.csv\n",
            "100% 133M/133M [00:03<00:00, 35.9MB/s]\n"
          ]
        }
      ],
      "source": [
        "# Gets the train data\n",
        "!gdown 1rminmJ2df9TfNJMdoL6SFvOOrmg0cC-v"
      ]
    },
    {
      "cell_type": "code",
      "execution_count": 43,
      "metadata": {
        "colab": {
          "base_uri": "https://localhost:8080/"
        },
        "id": "vbaH0EzxbZum",
        "outputId": "8e1b0d6f-a4af-42da-8277-9804657f12b5"
      },
      "outputs": [
        {
          "name": "stdout",
          "output_type": "stream",
          "text": [
            "Downloading...\n",
            "From: https://drive.google.com/uc?id=1k5R1zIE7n5PJbqPSrtWlJB28Sd11Ekrr\n",
            "To: /content/fashion-mnist_test.csv\n",
            "100% 22.2M/22.2M [00:00<00:00, 23.9MB/s]\n"
          ]
        }
      ],
      "source": [
        "# Gets the test data\n",
        "!gdown 1k5R1zIE7n5PJbqPSrtWlJB28Sd11Ekrr"
      ]
    },
    {
      "cell_type": "markdown",
      "metadata": {
        "id": "PbJKt6XHeqMj"
      },
      "source": [
        "Next, these are loaded into the notebook as pandas DataFrame objects."
      ]
    },
    {
      "cell_type": "code",
      "execution_count": 3,
      "metadata": {
        "colab": {
          "base_uri": "https://localhost:8080/",
          "height": 193
        },
        "id": "Hezix3b391DV",
        "outputId": "3398f700-a268-4ec9-8c5b-a6a8d37c3687"
      },
      "outputs": [
        {
          "data": {
            "text/html": [
              "<div>\n",
              "<style scoped>\n",
              "    .dataframe tbody tr th:only-of-type {\n",
              "        vertical-align: middle;\n",
              "    }\n",
              "\n",
              "    .dataframe tbody tr th {\n",
              "        vertical-align: top;\n",
              "    }\n",
              "\n",
              "    .dataframe thead th {\n",
              "        text-align: right;\n",
              "    }\n",
              "</style>\n",
              "<table border=\"1\" class=\"dataframe\">\n",
              "  <thead>\n",
              "    <tr style=\"text-align: right;\">\n",
              "      <th></th>\n",
              "      <th>label</th>\n",
              "      <th>pixel1</th>\n",
              "      <th>pixel2</th>\n",
              "      <th>pixel3</th>\n",
              "      <th>pixel4</th>\n",
              "      <th>pixel5</th>\n",
              "      <th>pixel6</th>\n",
              "      <th>pixel7</th>\n",
              "      <th>pixel8</th>\n",
              "      <th>pixel9</th>\n",
              "      <th>...</th>\n",
              "      <th>pixel775</th>\n",
              "      <th>pixel776</th>\n",
              "      <th>pixel777</th>\n",
              "      <th>pixel778</th>\n",
              "      <th>pixel779</th>\n",
              "      <th>pixel780</th>\n",
              "      <th>pixel781</th>\n",
              "      <th>pixel782</th>\n",
              "      <th>pixel783</th>\n",
              "      <th>pixel784</th>\n",
              "    </tr>\n",
              "  </thead>\n",
              "  <tbody>\n",
              "    <tr>\n",
              "      <th>0</th>\n",
              "      <td>2</td>\n",
              "      <td>0</td>\n",
              "      <td>0</td>\n",
              "      <td>0</td>\n",
              "      <td>0</td>\n",
              "      <td>0</td>\n",
              "      <td>0</td>\n",
              "      <td>0</td>\n",
              "      <td>0</td>\n",
              "      <td>0</td>\n",
              "      <td>...</td>\n",
              "      <td>0</td>\n",
              "      <td>0</td>\n",
              "      <td>0</td>\n",
              "      <td>0</td>\n",
              "      <td>0</td>\n",
              "      <td>0</td>\n",
              "      <td>0</td>\n",
              "      <td>0</td>\n",
              "      <td>0</td>\n",
              "      <td>0</td>\n",
              "    </tr>\n",
              "    <tr>\n",
              "      <th>1</th>\n",
              "      <td>9</td>\n",
              "      <td>0</td>\n",
              "      <td>0</td>\n",
              "      <td>0</td>\n",
              "      <td>0</td>\n",
              "      <td>0</td>\n",
              "      <td>0</td>\n",
              "      <td>0</td>\n",
              "      <td>0</td>\n",
              "      <td>0</td>\n",
              "      <td>...</td>\n",
              "      <td>0</td>\n",
              "      <td>0</td>\n",
              "      <td>0</td>\n",
              "      <td>0</td>\n",
              "      <td>0</td>\n",
              "      <td>0</td>\n",
              "      <td>0</td>\n",
              "      <td>0</td>\n",
              "      <td>0</td>\n",
              "      <td>0</td>\n",
              "    </tr>\n",
              "    <tr>\n",
              "      <th>2</th>\n",
              "      <td>6</td>\n",
              "      <td>0</td>\n",
              "      <td>0</td>\n",
              "      <td>0</td>\n",
              "      <td>0</td>\n",
              "      <td>0</td>\n",
              "      <td>0</td>\n",
              "      <td>0</td>\n",
              "      <td>5</td>\n",
              "      <td>0</td>\n",
              "      <td>...</td>\n",
              "      <td>0</td>\n",
              "      <td>0</td>\n",
              "      <td>0</td>\n",
              "      <td>30</td>\n",
              "      <td>43</td>\n",
              "      <td>0</td>\n",
              "      <td>0</td>\n",
              "      <td>0</td>\n",
              "      <td>0</td>\n",
              "      <td>0</td>\n",
              "    </tr>\n",
              "  </tbody>\n",
              "</table>\n",
              "<p>3 rows × 785 columns</p>\n",
              "</div>"
            ],
            "text/plain": [
              "   label  pixel1  pixel2  pixel3  pixel4  pixel5  pixel6  pixel7  pixel8  \\\n",
              "0      2       0       0       0       0       0       0       0       0   \n",
              "1      9       0       0       0       0       0       0       0       0   \n",
              "2      6       0       0       0       0       0       0       0       5   \n",
              "\n",
              "   pixel9  ...  pixel775  pixel776  pixel777  pixel778  pixel779  pixel780  \\\n",
              "0       0  ...         0         0         0         0         0         0   \n",
              "1       0  ...         0         0         0         0         0         0   \n",
              "2       0  ...         0         0         0        30        43         0   \n",
              "\n",
              "   pixel781  pixel782  pixel783  pixel784  \n",
              "0         0         0         0         0  \n",
              "1         0         0         0         0  \n",
              "2         0         0         0         0  \n",
              "\n",
              "[3 rows x 785 columns]"
            ]
          },
          "execution_count": 3,
          "metadata": {},
          "output_type": "execute_result"
        }
      ],
      "source": [
        "train = pd.read_csv('../data/fashion-mnist_train.csv')\n",
        "train.head(3)"
      ]
    },
    {
      "cell_type": "code",
      "execution_count": 5,
      "metadata": {
        "colab": {
          "base_uri": "https://localhost:8080/",
          "height": 193
        },
        "id": "NOF-Z_1y-P6F",
        "outputId": "9111aa25-bb4b-4828-a676-a70ef0f6527b"
      },
      "outputs": [
        {
          "data": {
            "text/html": [
              "<div>\n",
              "<style scoped>\n",
              "    .dataframe tbody tr th:only-of-type {\n",
              "        vertical-align: middle;\n",
              "    }\n",
              "\n",
              "    .dataframe tbody tr th {\n",
              "        vertical-align: top;\n",
              "    }\n",
              "\n",
              "    .dataframe thead th {\n",
              "        text-align: right;\n",
              "    }\n",
              "</style>\n",
              "<table border=\"1\" class=\"dataframe\">\n",
              "  <thead>\n",
              "    <tr style=\"text-align: right;\">\n",
              "      <th></th>\n",
              "      <th>label</th>\n",
              "      <th>pixel1</th>\n",
              "      <th>pixel2</th>\n",
              "      <th>pixel3</th>\n",
              "      <th>pixel4</th>\n",
              "      <th>pixel5</th>\n",
              "      <th>pixel6</th>\n",
              "      <th>pixel7</th>\n",
              "      <th>pixel8</th>\n",
              "      <th>pixel9</th>\n",
              "      <th>...</th>\n",
              "      <th>pixel775</th>\n",
              "      <th>pixel776</th>\n",
              "      <th>pixel777</th>\n",
              "      <th>pixel778</th>\n",
              "      <th>pixel779</th>\n",
              "      <th>pixel780</th>\n",
              "      <th>pixel781</th>\n",
              "      <th>pixel782</th>\n",
              "      <th>pixel783</th>\n",
              "      <th>pixel784</th>\n",
              "    </tr>\n",
              "  </thead>\n",
              "  <tbody>\n",
              "    <tr>\n",
              "      <th>0</th>\n",
              "      <td>0</td>\n",
              "      <td>0</td>\n",
              "      <td>0</td>\n",
              "      <td>0</td>\n",
              "      <td>0</td>\n",
              "      <td>0</td>\n",
              "      <td>0</td>\n",
              "      <td>0</td>\n",
              "      <td>9</td>\n",
              "      <td>8</td>\n",
              "      <td>...</td>\n",
              "      <td>103</td>\n",
              "      <td>87</td>\n",
              "      <td>56</td>\n",
              "      <td>0</td>\n",
              "      <td>0</td>\n",
              "      <td>0</td>\n",
              "      <td>0</td>\n",
              "      <td>0</td>\n",
              "      <td>0</td>\n",
              "      <td>0</td>\n",
              "    </tr>\n",
              "    <tr>\n",
              "      <th>1</th>\n",
              "      <td>1</td>\n",
              "      <td>0</td>\n",
              "      <td>0</td>\n",
              "      <td>0</td>\n",
              "      <td>0</td>\n",
              "      <td>0</td>\n",
              "      <td>0</td>\n",
              "      <td>0</td>\n",
              "      <td>0</td>\n",
              "      <td>0</td>\n",
              "      <td>...</td>\n",
              "      <td>34</td>\n",
              "      <td>0</td>\n",
              "      <td>0</td>\n",
              "      <td>0</td>\n",
              "      <td>0</td>\n",
              "      <td>0</td>\n",
              "      <td>0</td>\n",
              "      <td>0</td>\n",
              "      <td>0</td>\n",
              "      <td>0</td>\n",
              "    </tr>\n",
              "    <tr>\n",
              "      <th>2</th>\n",
              "      <td>2</td>\n",
              "      <td>0</td>\n",
              "      <td>0</td>\n",
              "      <td>0</td>\n",
              "      <td>0</td>\n",
              "      <td>0</td>\n",
              "      <td>0</td>\n",
              "      <td>14</td>\n",
              "      <td>53</td>\n",
              "      <td>99</td>\n",
              "      <td>...</td>\n",
              "      <td>0</td>\n",
              "      <td>0</td>\n",
              "      <td>0</td>\n",
              "      <td>0</td>\n",
              "      <td>63</td>\n",
              "      <td>53</td>\n",
              "      <td>31</td>\n",
              "      <td>0</td>\n",
              "      <td>0</td>\n",
              "      <td>0</td>\n",
              "    </tr>\n",
              "  </tbody>\n",
              "</table>\n",
              "<p>3 rows × 785 columns</p>\n",
              "</div>"
            ],
            "text/plain": [
              "   label  pixel1  pixel2  pixel3  pixel4  pixel5  pixel6  pixel7  pixel8  \\\n",
              "0      0       0       0       0       0       0       0       0       9   \n",
              "1      1       0       0       0       0       0       0       0       0   \n",
              "2      2       0       0       0       0       0       0      14      53   \n",
              "\n",
              "   pixel9  ...  pixel775  pixel776  pixel777  pixel778  pixel779  pixel780  \\\n",
              "0       8  ...       103        87        56         0         0         0   \n",
              "1       0  ...        34         0         0         0         0         0   \n",
              "2      99  ...         0         0         0         0        63        53   \n",
              "\n",
              "   pixel781  pixel782  pixel783  pixel784  \n",
              "0         0         0         0         0  \n",
              "1         0         0         0         0  \n",
              "2        31         0         0         0  \n",
              "\n",
              "[3 rows x 785 columns]"
            ]
          },
          "execution_count": 5,
          "metadata": {},
          "output_type": "execute_result"
        }
      ],
      "source": [
        "test = pd.read_csv('../data/fashion-mnist_test.csv')\n",
        "test.head(3)"
      ]
    },
    {
      "cell_type": "markdown",
      "metadata": {
        "id": "mx8Ix4-Iexrq"
      },
      "source": [
        "As we can see, these are arrays of size: $n*785$. The first column corresponds to the class of the images, followed by 784 pixels representing $28*28$ grayscale images (values between 0 and 255)."
      ]
    },
    {
      "cell_type": "code",
      "execution_count": 6,
      "metadata": {
        "colab": {
          "base_uri": "https://localhost:8080/"
        },
        "id": "Js0kN6VUBX_d",
        "outputId": "63ce6de9-df22-4812-bd05-b6859ebade45"
      },
      "outputs": [
        {
          "data": {
            "text/plain": [
              "784"
            ]
          },
          "execution_count": 6,
          "metadata": {},
          "output_type": "execute_result"
        }
      ],
      "source": [
        "# Every image size is 28x28 px and every pixel has a value between 0 and 255 (gray scale)\n",
        "28*28"
      ]
    },
    {
      "cell_type": "markdown",
      "metadata": {
        "id": "5sdTXUlcfvvN"
      },
      "source": [
        "Each number between 0 and 9 is associated with one of the following labels, as shown below:"
      ]
    },
    {
      "cell_type": "code",
      "execution_count": 7,
      "metadata": {
        "id": "JYNgIG7gayXw"
      },
      "outputs": [],
      "source": [
        "# Class names\n",
        "class_names = {0: 'T-shirt/top',\n",
        "           1: 'Trouser',\n",
        "           2: 'Pullover',\n",
        "           3: 'Dress',\n",
        "           4: 'Coat',\n",
        "           5: 'Sandal',\n",
        "           6: 'Shirt',\n",
        "           7: 'Sneaker',\n",
        "           8: 'Bag',\n",
        "           9: 'Ankle boot',}"
      ]
    },
    {
      "cell_type": "markdown",
      "metadata": {
        "id": "JLgXr8-Lf8yA"
      },
      "source": [
        "We print some of the images."
      ]
    },
    {
      "cell_type": "code",
      "execution_count": 8,
      "metadata": {
        "colab": {
          "base_uri": "https://localhost:8080/",
          "height": 1000
        },
        "id": "75kTDQdvCmqt",
        "outputId": "008f5077-f39d-41f3-b839-aec9a639f5ec"
      },
      "outputs": [
        {
          "data": {
            "image/png": "[encoded data removed]",
            "text/plain": [
              "<Figure size 1200x1500 with 25 Axes>"
            ]
          },
          "metadata": {},
          "output_type": "display_data"
        }
      ],
      "source": [
        "fig, axes = plt.subplots(5, 5, figsize=(12, 15))\n",
        "\n",
        "for i in range(25):\n",
        "    img_arr = train.sample(1).values.reshape(785)\n",
        "    label = img_arr[0]\n",
        "    pixels = img_arr[1:]\n",
        "    row = i // 5\n",
        "    column = i % 5\n",
        "    axes[row, column].imshow(pixels.reshape((28, 28)), cmap=plt.cm.binary)\n",
        "    axes[row, column].set_title(class_names[label])\n"
      ]
    },
    {
      "cell_type": "code",
      "execution_count": 9,
      "metadata": {
        "colab": {
          "base_uri": "https://localhost:8080/",
          "height": 429
        },
        "id": "ugARBEyDcU93",
        "outputId": "81db0a67-c510-4444-cfdb-da2ae416bae1"
      },
      "outputs": [
        {
          "data": {
            "text/plain": [
              "label\n",
              "Pullover       6000\n",
              "Ankle boot     6000\n",
              "Shirt          6000\n",
              "T-shirt/top    6000\n",
              "Dress          6000\n",
              "Coat           6000\n",
              "Sandal         6000\n",
              "Bag            6000\n",
              "Sneaker        6000\n",
              "Trouser        6000\n",
              "Name: count, dtype: int64"
            ]
          },
          "execution_count": 9,
          "metadata": {},
          "output_type": "execute_result"
        }
      ],
      "source": [
        "(\n",
        "    train\n",
        "    .label\n",
        "    .replace(class_names)\n",
        "    .value_counts()\n",
        ")"
      ]
    },
    {
      "cell_type": "code",
      "execution_count": 10,
      "metadata": {
        "colab": {
          "base_uri": "https://localhost:8080/",
          "height": 429
        },
        "id": "OtcB7Ryrd-Ae",
        "outputId": "bcfd4d98-425a-49bc-9507-09a276931da2"
      },
      "outputs": [
        {
          "data": {
            "text/plain": [
              "label\n",
              "T-shirt/top    1000\n",
              "Trouser        1000\n",
              "Pullover       1000\n",
              "Dress          1000\n",
              "Bag            1000\n",
              "Shirt          1000\n",
              "Sandal         1000\n",
              "Coat           1000\n",
              "Sneaker        1000\n",
              "Ankle boot     1000\n",
              "Name: count, dtype: int64"
            ]
          },
          "execution_count": 10,
          "metadata": {},
          "output_type": "execute_result"
        }
      ],
      "source": [
        "(\n",
        "    test\n",
        "    .label\n",
        "    .replace(class_names)\n",
        "    .value_counts()\n",
        ")"
      ]
    },
    {
      "cell_type": "markdown",
      "metadata": {
        "id": "ipIf8UA5MuhH"
      },
      "source": [
        "# 3. Data preparation\n",
        "\n"
      ]
    },
    {
      "cell_type": "markdown",
      "metadata": {
        "id": "GksQ5bw8h_aV"
      },
      "source": [
        "This is a supervised learning problem, so we will separate the training and testing DataFrames into their respective labels and features."
      ]
    },
    {
      "cell_type": "code",
      "execution_count": 11,
      "metadata": {
        "id": "3XgulNrvM2VC"
      },
      "outputs": [],
      "source": [
        "# X and y from train dataframe\n",
        "X_train = train.drop('label', axis=1)\n",
        "y_train = train.label\n",
        "\n",
        "# X and y from test dataframe\n",
        "X_test = test.drop('label', axis=1)\n",
        "y_test = test.label"
      ]
    },
    {
      "cell_type": "code",
      "execution_count": 12,
      "metadata": {
        "colab": {
          "base_uri": "https://localhost:8080/"
        },
        "id": "pp2UPQ5BUzg7",
        "outputId": "03294ce7-a6fd-487d-afb3-9a691d19356a"
      },
      "outputs": [
        {
          "name": "stdout",
          "output_type": "stream",
          "text": [
            "Tamaño features de train:  (60000, 784)\n",
            "Tamaño labels de train  (60000,)\n",
            "Tamaño features de test:  (10000, 784)\n",
            "Tamaño labels de test:  (10000,)\n"
          ]
        }
      ],
      "source": [
        "print('Tamaño features de train: ', X_train.shape)\n",
        "print('Tamaño labels de train ', y_train.shape)\n",
        "print('Tamaño features de test: ', X_test.shape)\n",
        "print('Tamaño labels de test: ', y_test.shape)"
      ]
    },
    {
      "cell_type": "markdown",
      "metadata": {
        "id": "VavrqZRMkiTX"
      },
      "source": [
        "It is recommended to normalize pixel values when training image classification algorithms. Normalization helps stabilize training, improve generalization, and prevent overfitting by scaling pixel values to a specific range. We take each pixel and scale its value to a range of [0, 1]."
      ]
    },
    {
      "cell_type": "code",
      "execution_count": 13,
      "metadata": {
        "id": "Rx66RC2uU29Q"
      },
      "outputs": [],
      "source": [
        "# Normalize data\n",
        "from sklearn import preprocessing\n",
        "\n",
        "scaler = preprocessing.MinMaxScaler()\n",
        "\n",
        "X_train_norm = pd.DataFrame(scaler.fit_transform(X_train))\n",
        "X_test_norm = pd.DataFrame(scaler.fit_transform(X_test))"
      ]
    },
    {
      "cell_type": "markdown",
      "metadata": {
        "id": "NoGY0ddTk-F9"
      },
      "source": [
        "We observe normalized data."
      ]
    },
    {
      "cell_type": "code",
      "execution_count": 14,
      "metadata": {
        "colab": {
          "base_uri": "https://localhost:8080/",
          "height": 514
        },
        "id": "P1wOXH7cYeKx",
        "outputId": "76d9b75b-05b9-4e04-8383-39a90366116a"
      },
      "outputs": [
        {
          "data": {
            "image/png": "[encoded data removed]",
            "text/plain": [
              "<Figure size 1600x600 with 20 Axes>"
            ]
          },
          "metadata": {},
          "output_type": "display_data"
        }
      ],
      "source": [
        "# Show normalized data\n",
        "fig, axes = plt.subplots(2, 5, figsize=(16, 6))\n",
        "\n",
        "for i in range(10):\n",
        "    pixels = X_train_norm.sample(1).values.reshape(784)\n",
        "\n",
        "    row = i // 5\n",
        "    column = i % 5\n",
        "\n",
        "    im = axes[row, column].imshow(pixels.reshape((28, 28)), cmap=plt.cm.binary)\n",
        "    fig.colorbar(im, ax = axes[row, column])"
      ]
    },
    {
      "cell_type": "code",
      "execution_count": 15,
      "metadata": {
        "colab": {
          "base_uri": "https://localhost:8080/",
          "height": 424
        },
        "id": "qMJXLUojR_Eu",
        "outputId": "6cd4dd14-a84c-463e-b48d-3b2b455c703b"
      },
      "outputs": [
        {
          "data": {
            "text/html": [
              "<div>\n",
              "<style scoped>\n",
              "    .dataframe tbody tr th:only-of-type {\n",
              "        vertical-align: middle;\n",
              "    }\n",
              "\n",
              "    .dataframe tbody tr th {\n",
              "        vertical-align: top;\n",
              "    }\n",
              "\n",
              "    .dataframe thead th {\n",
              "        text-align: right;\n",
              "    }\n",
              "</style>\n",
              "<table border=\"1\" class=\"dataframe\">\n",
              "  <thead>\n",
              "    <tr style=\"text-align: right;\">\n",
              "      <th></th>\n",
              "      <th>0</th>\n",
              "      <th>1</th>\n",
              "      <th>2</th>\n",
              "      <th>3</th>\n",
              "      <th>4</th>\n",
              "      <th>5</th>\n",
              "      <th>6</th>\n",
              "      <th>7</th>\n",
              "      <th>8</th>\n",
              "      <th>9</th>\n",
              "      <th>...</th>\n",
              "      <th>774</th>\n",
              "      <th>775</th>\n",
              "      <th>776</th>\n",
              "      <th>777</th>\n",
              "      <th>778</th>\n",
              "      <th>779</th>\n",
              "      <th>780</th>\n",
              "      <th>781</th>\n",
              "      <th>782</th>\n",
              "      <th>783</th>\n",
              "    </tr>\n",
              "  </thead>\n",
              "  <tbody>\n",
              "    <tr>\n",
              "      <th>0</th>\n",
              "      <td>0.0</td>\n",
              "      <td>0.0</td>\n",
              "      <td>0.0</td>\n",
              "      <td>0.000000</td>\n",
              "      <td>0.000000</td>\n",
              "      <td>0.0</td>\n",
              "      <td>0.0</td>\n",
              "      <td>0.000000</td>\n",
              "      <td>0.0</td>\n",
              "      <td>0.0</td>\n",
              "      <td>...</td>\n",
              "      <td>0.000000</td>\n",
              "      <td>0.000000</td>\n",
              "      <td>0.000000</td>\n",
              "      <td>0.000000</td>\n",
              "      <td>0.000000</td>\n",
              "      <td>0.000000</td>\n",
              "      <td>0.0</td>\n",
              "      <td>0.0</td>\n",
              "      <td>0.0</td>\n",
              "      <td>0.0</td>\n",
              "    </tr>\n",
              "    <tr>\n",
              "      <th>1</th>\n",
              "      <td>0.0</td>\n",
              "      <td>0.0</td>\n",
              "      <td>0.0</td>\n",
              "      <td>0.000000</td>\n",
              "      <td>0.000000</td>\n",
              "      <td>0.0</td>\n",
              "      <td>0.0</td>\n",
              "      <td>0.000000</td>\n",
              "      <td>0.0</td>\n",
              "      <td>0.0</td>\n",
              "      <td>...</td>\n",
              "      <td>0.000000</td>\n",
              "      <td>0.000000</td>\n",
              "      <td>0.000000</td>\n",
              "      <td>0.000000</td>\n",
              "      <td>0.000000</td>\n",
              "      <td>0.000000</td>\n",
              "      <td>0.0</td>\n",
              "      <td>0.0</td>\n",
              "      <td>0.0</td>\n",
              "      <td>0.0</td>\n",
              "    </tr>\n",
              "    <tr>\n",
              "      <th>2</th>\n",
              "      <td>0.0</td>\n",
              "      <td>0.0</td>\n",
              "      <td>0.0</td>\n",
              "      <td>0.000000</td>\n",
              "      <td>0.000000</td>\n",
              "      <td>0.0</td>\n",
              "      <td>0.0</td>\n",
              "      <td>0.019608</td>\n",
              "      <td>0.0</td>\n",
              "      <td>0.0</td>\n",
              "      <td>...</td>\n",
              "      <td>0.000000</td>\n",
              "      <td>0.000000</td>\n",
              "      <td>0.000000</td>\n",
              "      <td>0.117647</td>\n",
              "      <td>0.168627</td>\n",
              "      <td>0.000000</td>\n",
              "      <td>0.0</td>\n",
              "      <td>0.0</td>\n",
              "      <td>0.0</td>\n",
              "      <td>0.0</td>\n",
              "    </tr>\n",
              "    <tr>\n",
              "      <th>3</th>\n",
              "      <td>0.0</td>\n",
              "      <td>0.0</td>\n",
              "      <td>0.0</td>\n",
              "      <td>0.006098</td>\n",
              "      <td>0.008811</td>\n",
              "      <td>0.0</td>\n",
              "      <td>0.0</td>\n",
              "      <td>0.000000</td>\n",
              "      <td>0.0</td>\n",
              "      <td>0.0</td>\n",
              "      <td>...</td>\n",
              "      <td>0.011765</td>\n",
              "      <td>0.000000</td>\n",
              "      <td>0.000000</td>\n",
              "      <td>0.000000</td>\n",
              "      <td>0.000000</td>\n",
              "      <td>0.003922</td>\n",
              "      <td>0.0</td>\n",
              "      <td>0.0</td>\n",
              "      <td>0.0</td>\n",
              "      <td>0.0</td>\n",
              "    </tr>\n",
              "    <tr>\n",
              "      <th>4</th>\n",
              "      <td>0.0</td>\n",
              "      <td>0.0</td>\n",
              "      <td>0.0</td>\n",
              "      <td>0.000000</td>\n",
              "      <td>0.000000</td>\n",
              "      <td>0.0</td>\n",
              "      <td>0.0</td>\n",
              "      <td>0.000000</td>\n",
              "      <td>0.0</td>\n",
              "      <td>0.0</td>\n",
              "      <td>...</td>\n",
              "      <td>0.000000</td>\n",
              "      <td>0.000000</td>\n",
              "      <td>0.000000</td>\n",
              "      <td>0.000000</td>\n",
              "      <td>0.000000</td>\n",
              "      <td>0.000000</td>\n",
              "      <td>0.0</td>\n",
              "      <td>0.0</td>\n",
              "      <td>0.0</td>\n",
              "      <td>0.0</td>\n",
              "    </tr>\n",
              "    <tr>\n",
              "      <th>...</th>\n",
              "      <td>...</td>\n",
              "      <td>...</td>\n",
              "      <td>...</td>\n",
              "      <td>...</td>\n",
              "      <td>...</td>\n",
              "      <td>...</td>\n",
              "      <td>...</td>\n",
              "      <td>...</td>\n",
              "      <td>...</td>\n",
              "      <td>...</td>\n",
              "      <td>...</td>\n",
              "      <td>...</td>\n",
              "      <td>...</td>\n",
              "      <td>...</td>\n",
              "      <td>...</td>\n",
              "      <td>...</td>\n",
              "      <td>...</td>\n",
              "      <td>...</td>\n",
              "      <td>...</td>\n",
              "      <td>...</td>\n",
              "      <td>...</td>\n",
              "    </tr>\n",
              "    <tr>\n",
              "      <th>59995</th>\n",
              "      <td>0.0</td>\n",
              "      <td>0.0</td>\n",
              "      <td>0.0</td>\n",
              "      <td>0.000000</td>\n",
              "      <td>0.000000</td>\n",
              "      <td>0.0</td>\n",
              "      <td>0.0</td>\n",
              "      <td>0.000000</td>\n",
              "      <td>0.0</td>\n",
              "      <td>0.0</td>\n",
              "      <td>...</td>\n",
              "      <td>0.000000</td>\n",
              "      <td>0.000000</td>\n",
              "      <td>0.000000</td>\n",
              "      <td>0.000000</td>\n",
              "      <td>0.000000</td>\n",
              "      <td>0.000000</td>\n",
              "      <td>0.0</td>\n",
              "      <td>0.0</td>\n",
              "      <td>0.0</td>\n",
              "      <td>0.0</td>\n",
              "    </tr>\n",
              "    <tr>\n",
              "      <th>59996</th>\n",
              "      <td>0.0</td>\n",
              "      <td>0.0</td>\n",
              "      <td>0.0</td>\n",
              "      <td>0.000000</td>\n",
              "      <td>0.000000</td>\n",
              "      <td>0.0</td>\n",
              "      <td>0.0</td>\n",
              "      <td>0.000000</td>\n",
              "      <td>0.0</td>\n",
              "      <td>0.0</td>\n",
              "      <td>...</td>\n",
              "      <td>0.286275</td>\n",
              "      <td>0.000000</td>\n",
              "      <td>0.000000</td>\n",
              "      <td>0.000000</td>\n",
              "      <td>0.000000</td>\n",
              "      <td>0.000000</td>\n",
              "      <td>0.0</td>\n",
              "      <td>0.0</td>\n",
              "      <td>0.0</td>\n",
              "      <td>0.0</td>\n",
              "    </tr>\n",
              "    <tr>\n",
              "      <th>59997</th>\n",
              "      <td>0.0</td>\n",
              "      <td>0.0</td>\n",
              "      <td>0.0</td>\n",
              "      <td>0.000000</td>\n",
              "      <td>0.000000</td>\n",
              "      <td>0.0</td>\n",
              "      <td>0.0</td>\n",
              "      <td>0.000000</td>\n",
              "      <td>0.0</td>\n",
              "      <td>0.0</td>\n",
              "      <td>...</td>\n",
              "      <td>0.627451</td>\n",
              "      <td>0.635294</td>\n",
              "      <td>0.639216</td>\n",
              "      <td>0.529412</td>\n",
              "      <td>0.368627</td>\n",
              "      <td>0.000000</td>\n",
              "      <td>0.0</td>\n",
              "      <td>0.0</td>\n",
              "      <td>0.0</td>\n",
              "      <td>0.0</td>\n",
              "    </tr>\n",
              "    <tr>\n",
              "      <th>59998</th>\n",
              "      <td>0.0</td>\n",
              "      <td>0.0</td>\n",
              "      <td>0.0</td>\n",
              "      <td>0.000000</td>\n",
              "      <td>0.000000</td>\n",
              "      <td>0.0</td>\n",
              "      <td>0.0</td>\n",
              "      <td>0.000000</td>\n",
              "      <td>0.0</td>\n",
              "      <td>0.0</td>\n",
              "      <td>...</td>\n",
              "      <td>0.000000</td>\n",
              "      <td>0.000000</td>\n",
              "      <td>0.000000</td>\n",
              "      <td>0.000000</td>\n",
              "      <td>0.000000</td>\n",
              "      <td>0.000000</td>\n",
              "      <td>0.0</td>\n",
              "      <td>0.0</td>\n",
              "      <td>0.0</td>\n",
              "      <td>0.0</td>\n",
              "    </tr>\n",
              "    <tr>\n",
              "      <th>59999</th>\n",
              "      <td>0.0</td>\n",
              "      <td>0.0</td>\n",
              "      <td>0.0</td>\n",
              "      <td>0.000000</td>\n",
              "      <td>0.000000</td>\n",
              "      <td>0.0</td>\n",
              "      <td>0.0</td>\n",
              "      <td>0.000000</td>\n",
              "      <td>0.0</td>\n",
              "      <td>0.0</td>\n",
              "      <td>...</td>\n",
              "      <td>0.000000</td>\n",
              "      <td>0.000000</td>\n",
              "      <td>0.000000</td>\n",
              "      <td>0.000000</td>\n",
              "      <td>0.000000</td>\n",
              "      <td>0.000000</td>\n",
              "      <td>0.0</td>\n",
              "      <td>0.0</td>\n",
              "      <td>0.0</td>\n",
              "      <td>0.0</td>\n",
              "    </tr>\n",
              "  </tbody>\n",
              "</table>\n",
              "<p>60000 rows × 784 columns</p>\n",
              "</div>"
            ],
            "text/plain": [
              "       0    1    2         3         4    5    6         7    8    9    ...  \\\n",
              "0      0.0  0.0  0.0  0.000000  0.000000  0.0  0.0  0.000000  0.0  0.0  ...   \n",
              "1      0.0  0.0  0.0  0.000000  0.000000  0.0  0.0  0.000000  0.0  0.0  ...   \n",
              "2      0.0  0.0  0.0  0.000000  0.000000  0.0  0.0  0.019608  0.0  0.0  ...   \n",
              "3      0.0  0.0  0.0  0.006098  0.008811  0.0  0.0  0.000000  0.0  0.0  ...   \n",
              "4      0.0  0.0  0.0  0.000000  0.000000  0.0  0.0  0.000000  0.0  0.0  ...   \n",
              "...    ...  ...  ...       ...       ...  ...  ...       ...  ...  ...  ...   \n",
              "59995  0.0  0.0  0.0  0.000000  0.000000  0.0  0.0  0.000000  0.0  0.0  ...   \n",
              "59996  0.0  0.0  0.0  0.000000  0.000000  0.0  0.0  0.000000  0.0  0.0  ...   \n",
              "59997  0.0  0.0  0.0  0.000000  0.000000  0.0  0.0  0.000000  0.0  0.0  ...   \n",
              "59998  0.0  0.0  0.0  0.000000  0.000000  0.0  0.0  0.000000  0.0  0.0  ...   \n",
              "59999  0.0  0.0  0.0  0.000000  0.000000  0.0  0.0  0.000000  0.0  0.0  ...   \n",
              "\n",
              "            774       775       776       777       778       779  780  781  \\\n",
              "0      0.000000  0.000000  0.000000  0.000000  0.000000  0.000000  0.0  0.0   \n",
              "1      0.000000  0.000000  0.000000  0.000000  0.000000  0.000000  0.0  0.0   \n",
              "2      0.000000  0.000000  0.000000  0.117647  0.168627  0.000000  0.0  0.0   \n",
              "3      0.011765  0.000000  0.000000  0.000000  0.000000  0.003922  0.0  0.0   \n",
              "4      0.000000  0.000000  0.000000  0.000000  0.000000  0.000000  0.0  0.0   \n",
              "...         ...       ...       ...       ...       ...       ...  ...  ...   \n",
              "59995  0.000000  0.000000  0.000000  0.000000  0.000000  0.000000  0.0  0.0   \n",
              "59996  0.286275  0.000000  0.000000  0.000000  0.000000  0.000000  0.0  0.0   \n",
              "59997  0.627451  0.635294  0.639216  0.529412  0.368627  0.000000  0.0  0.0   \n",
              "59998  0.000000  0.000000  0.000000  0.000000  0.000000  0.000000  0.0  0.0   \n",
              "59999  0.000000  0.000000  0.000000  0.000000  0.000000  0.000000  0.0  0.0   \n",
              "\n",
              "       782  783  \n",
              "0      0.0  0.0  \n",
              "1      0.0  0.0  \n",
              "2      0.0  0.0  \n",
              "3      0.0  0.0  \n",
              "4      0.0  0.0  \n",
              "...    ...  ...  \n",
              "59995  0.0  0.0  \n",
              "59996  0.0  0.0  \n",
              "59997  0.0  0.0  \n",
              "59998  0.0  0.0  \n",
              "59999  0.0  0.0  \n",
              "\n",
              "[60000 rows x 784 columns]"
            ]
          },
          "execution_count": 15,
          "metadata": {},
          "output_type": "execute_result"
        }
      ],
      "source": [
        "X_train_norm"
      ]
    },
    {
      "cell_type": "code",
      "execution_count": 16,
      "metadata": {
        "colab": {
          "base_uri": "https://localhost:8080/",
          "height": 444
        },
        "id": "ybYnAlvtSKxs",
        "outputId": "bd40f037-68ec-4305-cb86-4328e221a0f7"
      },
      "outputs": [
        {
          "data": {
            "text/html": [
              "<div>\n",
              "<style scoped>\n",
              "    .dataframe tbody tr th:only-of-type {\n",
              "        vertical-align: middle;\n",
              "    }\n",
              "\n",
              "    .dataframe tbody tr th {\n",
              "        vertical-align: top;\n",
              "    }\n",
              "\n",
              "    .dataframe thead th {\n",
              "        text-align: right;\n",
              "    }\n",
              "</style>\n",
              "<table border=\"1\" class=\"dataframe\">\n",
              "  <thead>\n",
              "    <tr style=\"text-align: right;\">\n",
              "      <th></th>\n",
              "      <th>pixel1</th>\n",
              "      <th>pixel2</th>\n",
              "      <th>pixel3</th>\n",
              "      <th>pixel4</th>\n",
              "      <th>pixel5</th>\n",
              "      <th>pixel6</th>\n",
              "      <th>pixel7</th>\n",
              "      <th>pixel8</th>\n",
              "      <th>pixel9</th>\n",
              "      <th>pixel10</th>\n",
              "      <th>...</th>\n",
              "      <th>pixel775</th>\n",
              "      <th>pixel776</th>\n",
              "      <th>pixel777</th>\n",
              "      <th>pixel778</th>\n",
              "      <th>pixel779</th>\n",
              "      <th>pixel780</th>\n",
              "      <th>pixel781</th>\n",
              "      <th>pixel782</th>\n",
              "      <th>pixel783</th>\n",
              "      <th>pixel784</th>\n",
              "    </tr>\n",
              "  </thead>\n",
              "  <tbody>\n",
              "    <tr>\n",
              "      <th>0</th>\n",
              "      <td>0</td>\n",
              "      <td>0</td>\n",
              "      <td>0</td>\n",
              "      <td>0</td>\n",
              "      <td>0</td>\n",
              "      <td>0</td>\n",
              "      <td>0</td>\n",
              "      <td>0</td>\n",
              "      <td>0</td>\n",
              "      <td>0</td>\n",
              "      <td>...</td>\n",
              "      <td>0</td>\n",
              "      <td>0</td>\n",
              "      <td>0</td>\n",
              "      <td>0</td>\n",
              "      <td>0</td>\n",
              "      <td>0</td>\n",
              "      <td>0</td>\n",
              "      <td>0</td>\n",
              "      <td>0</td>\n",
              "      <td>0</td>\n",
              "    </tr>\n",
              "    <tr>\n",
              "      <th>1</th>\n",
              "      <td>0</td>\n",
              "      <td>0</td>\n",
              "      <td>0</td>\n",
              "      <td>0</td>\n",
              "      <td>0</td>\n",
              "      <td>0</td>\n",
              "      <td>0</td>\n",
              "      <td>0</td>\n",
              "      <td>0</td>\n",
              "      <td>0</td>\n",
              "      <td>...</td>\n",
              "      <td>0</td>\n",
              "      <td>0</td>\n",
              "      <td>0</td>\n",
              "      <td>0</td>\n",
              "      <td>0</td>\n",
              "      <td>0</td>\n",
              "      <td>0</td>\n",
              "      <td>0</td>\n",
              "      <td>0</td>\n",
              "      <td>0</td>\n",
              "    </tr>\n",
              "    <tr>\n",
              "      <th>2</th>\n",
              "      <td>0</td>\n",
              "      <td>0</td>\n",
              "      <td>0</td>\n",
              "      <td>0</td>\n",
              "      <td>0</td>\n",
              "      <td>0</td>\n",
              "      <td>0</td>\n",
              "      <td>5</td>\n",
              "      <td>0</td>\n",
              "      <td>0</td>\n",
              "      <td>...</td>\n",
              "      <td>0</td>\n",
              "      <td>0</td>\n",
              "      <td>0</td>\n",
              "      <td>30</td>\n",
              "      <td>43</td>\n",
              "      <td>0</td>\n",
              "      <td>0</td>\n",
              "      <td>0</td>\n",
              "      <td>0</td>\n",
              "      <td>0</td>\n",
              "    </tr>\n",
              "    <tr>\n",
              "      <th>3</th>\n",
              "      <td>0</td>\n",
              "      <td>0</td>\n",
              "      <td>0</td>\n",
              "      <td>1</td>\n",
              "      <td>2</td>\n",
              "      <td>0</td>\n",
              "      <td>0</td>\n",
              "      <td>0</td>\n",
              "      <td>0</td>\n",
              "      <td>0</td>\n",
              "      <td>...</td>\n",
              "      <td>3</td>\n",
              "      <td>0</td>\n",
              "      <td>0</td>\n",
              "      <td>0</td>\n",
              "      <td>0</td>\n",
              "      <td>1</td>\n",
              "      <td>0</td>\n",
              "      <td>0</td>\n",
              "      <td>0</td>\n",
              "      <td>0</td>\n",
              "    </tr>\n",
              "    <tr>\n",
              "      <th>4</th>\n",
              "      <td>0</td>\n",
              "      <td>0</td>\n",
              "      <td>0</td>\n",
              "      <td>0</td>\n",
              "      <td>0</td>\n",
              "      <td>0</td>\n",
              "      <td>0</td>\n",
              "      <td>0</td>\n",
              "      <td>0</td>\n",
              "      <td>0</td>\n",
              "      <td>...</td>\n",
              "      <td>0</td>\n",
              "      <td>0</td>\n",
              "      <td>0</td>\n",
              "      <td>0</td>\n",
              "      <td>0</td>\n",
              "      <td>0</td>\n",
              "      <td>0</td>\n",
              "      <td>0</td>\n",
              "      <td>0</td>\n",
              "      <td>0</td>\n",
              "    </tr>\n",
              "    <tr>\n",
              "      <th>...</th>\n",
              "      <td>...</td>\n",
              "      <td>...</td>\n",
              "      <td>...</td>\n",
              "      <td>...</td>\n",
              "      <td>...</td>\n",
              "      <td>...</td>\n",
              "      <td>...</td>\n",
              "      <td>...</td>\n",
              "      <td>...</td>\n",
              "      <td>...</td>\n",
              "      <td>...</td>\n",
              "      <td>...</td>\n",
              "      <td>...</td>\n",
              "      <td>...</td>\n",
              "      <td>...</td>\n",
              "      <td>...</td>\n",
              "      <td>...</td>\n",
              "      <td>...</td>\n",
              "      <td>...</td>\n",
              "      <td>...</td>\n",
              "      <td>...</td>\n",
              "    </tr>\n",
              "    <tr>\n",
              "      <th>59995</th>\n",
              "      <td>0</td>\n",
              "      <td>0</td>\n",
              "      <td>0</td>\n",
              "      <td>0</td>\n",
              "      <td>0</td>\n",
              "      <td>0</td>\n",
              "      <td>0</td>\n",
              "      <td>0</td>\n",
              "      <td>0</td>\n",
              "      <td>0</td>\n",
              "      <td>...</td>\n",
              "      <td>0</td>\n",
              "      <td>0</td>\n",
              "      <td>0</td>\n",
              "      <td>0</td>\n",
              "      <td>0</td>\n",
              "      <td>0</td>\n",
              "      <td>0</td>\n",
              "      <td>0</td>\n",
              "      <td>0</td>\n",
              "      <td>0</td>\n",
              "    </tr>\n",
              "    <tr>\n",
              "      <th>59996</th>\n",
              "      <td>0</td>\n",
              "      <td>0</td>\n",
              "      <td>0</td>\n",
              "      <td>0</td>\n",
              "      <td>0</td>\n",
              "      <td>0</td>\n",
              "      <td>0</td>\n",
              "      <td>0</td>\n",
              "      <td>0</td>\n",
              "      <td>0</td>\n",
              "      <td>...</td>\n",
              "      <td>73</td>\n",
              "      <td>0</td>\n",
              "      <td>0</td>\n",
              "      <td>0</td>\n",
              "      <td>0</td>\n",
              "      <td>0</td>\n",
              "      <td>0</td>\n",
              "      <td>0</td>\n",
              "      <td>0</td>\n",
              "      <td>0</td>\n",
              "    </tr>\n",
              "    <tr>\n",
              "      <th>59997</th>\n",
              "      <td>0</td>\n",
              "      <td>0</td>\n",
              "      <td>0</td>\n",
              "      <td>0</td>\n",
              "      <td>0</td>\n",
              "      <td>0</td>\n",
              "      <td>0</td>\n",
              "      <td>0</td>\n",
              "      <td>0</td>\n",
              "      <td>0</td>\n",
              "      <td>...</td>\n",
              "      <td>160</td>\n",
              "      <td>162</td>\n",
              "      <td>163</td>\n",
              "      <td>135</td>\n",
              "      <td>94</td>\n",
              "      <td>0</td>\n",
              "      <td>0</td>\n",
              "      <td>0</td>\n",
              "      <td>0</td>\n",
              "      <td>0</td>\n",
              "    </tr>\n",
              "    <tr>\n",
              "      <th>59998</th>\n",
              "      <td>0</td>\n",
              "      <td>0</td>\n",
              "      <td>0</td>\n",
              "      <td>0</td>\n",
              "      <td>0</td>\n",
              "      <td>0</td>\n",
              "      <td>0</td>\n",
              "      <td>0</td>\n",
              "      <td>0</td>\n",
              "      <td>0</td>\n",
              "      <td>...</td>\n",
              "      <td>0</td>\n",
              "      <td>0</td>\n",
              "      <td>0</td>\n",
              "      <td>0</td>\n",
              "      <td>0</td>\n",
              "      <td>0</td>\n",
              "      <td>0</td>\n",
              "      <td>0</td>\n",
              "      <td>0</td>\n",
              "      <td>0</td>\n",
              "    </tr>\n",
              "    <tr>\n",
              "      <th>59999</th>\n",
              "      <td>0</td>\n",
              "      <td>0</td>\n",
              "      <td>0</td>\n",
              "      <td>0</td>\n",
              "      <td>0</td>\n",
              "      <td>0</td>\n",
              "      <td>0</td>\n",
              "      <td>0</td>\n",
              "      <td>0</td>\n",
              "      <td>0</td>\n",
              "      <td>...</td>\n",
              "      <td>0</td>\n",
              "      <td>0</td>\n",
              "      <td>0</td>\n",
              "      <td>0</td>\n",
              "      <td>0</td>\n",
              "      <td>0</td>\n",
              "      <td>0</td>\n",
              "      <td>0</td>\n",
              "      <td>0</td>\n",
              "      <td>0</td>\n",
              "    </tr>\n",
              "  </tbody>\n",
              "</table>\n",
              "<p>60000 rows × 784 columns</p>\n",
              "</div>"
            ],
            "text/plain": [
              "       pixel1  pixel2  pixel3  pixel4  pixel5  pixel6  pixel7  pixel8  pixel9  \\\n",
              "0           0       0       0       0       0       0       0       0       0   \n",
              "1           0       0       0       0       0       0       0       0       0   \n",
              "2           0       0       0       0       0       0       0       5       0   \n",
              "3           0       0       0       1       2       0       0       0       0   \n",
              "4           0       0       0       0       0       0       0       0       0   \n",
              "...       ...     ...     ...     ...     ...     ...     ...     ...     ...   \n",
              "59995       0       0       0       0       0       0       0       0       0   \n",
              "59996       0       0       0       0       0       0       0       0       0   \n",
              "59997       0       0       0       0       0       0       0       0       0   \n",
              "59998       0       0       0       0       0       0       0       0       0   \n",
              "59999       0       0       0       0       0       0       0       0       0   \n",
              "\n",
              "       pixel10  ...  pixel775  pixel776  pixel777  pixel778  pixel779  \\\n",
              "0            0  ...         0         0         0         0         0   \n",
              "1            0  ...         0         0         0         0         0   \n",
              "2            0  ...         0         0         0        30        43   \n",
              "3            0  ...         3         0         0         0         0   \n",
              "4            0  ...         0         0         0         0         0   \n",
              "...        ...  ...       ...       ...       ...       ...       ...   \n",
              "59995        0  ...         0         0         0         0         0   \n",
              "59996        0  ...        73         0         0         0         0   \n",
              "59997        0  ...       160       162       163       135        94   \n",
              "59998        0  ...         0         0         0         0         0   \n",
              "59999        0  ...         0         0         0         0         0   \n",
              "\n",
              "       pixel780  pixel781  pixel782  pixel783  pixel784  \n",
              "0             0         0         0         0         0  \n",
              "1             0         0         0         0         0  \n",
              "2             0         0         0         0         0  \n",
              "3             1         0         0         0         0  \n",
              "4             0         0         0         0         0  \n",
              "...         ...       ...       ...       ...       ...  \n",
              "59995         0         0         0         0         0  \n",
              "59996         0         0         0         0         0  \n",
              "59997         0         0         0         0         0  \n",
              "59998         0         0         0         0         0  \n",
              "59999         0         0         0         0         0  \n",
              "\n",
              "[60000 rows x 784 columns]"
            ]
          },
          "execution_count": 16,
          "metadata": {},
          "output_type": "execute_result"
        }
      ],
      "source": [
        "X_train"
      ]
    },
    {
      "cell_type": "markdown",
      "metadata": {
        "id": "dnrWEqEylE1x"
      },
      "source": [
        "Finally, we will perform dimensionality reduction on the data using PCA."
      ]
    },
    {
      "cell_type": "code",
      "execution_count": 17,
      "metadata": {
        "id": "nrmOeR0srj--"
      },
      "outputs": [],
      "source": [
        "from sklearn.decomposition import PCA\n",
        "\n",
        "pca = PCA().fit(X_train_norm)"
      ]
    },
    {
      "cell_type": "code",
      "execution_count": 18,
      "metadata": {
        "colab": {
          "base_uri": "https://localhost:8080/",
          "height": 476
        },
        "id": "97RbcdVgwHan",
        "outputId": "09575c04-9ecc-4a09-fd16-cedcdec39250"
      },
      "outputs": [
        {
          "data": {
            "text/plain": [
              "[Text(0.5, 0, 'Component'), Text(0, 0.5, 'Cumulative Variance')]"
            ]
          },
          "execution_count": 18,
          "metadata": {},
          "output_type": "execute_result"
        },
        {
          "data": {
            "image/png": "[encoded data removed]",
            "text/plain": [
              "<Figure size 640x480 with 1 Axes>"
            ]
          },
          "metadata": {},
          "output_type": "display_data"
        }
      ],
      "source": [
        "fig, ax = plt.subplots()\n",
        "ax.plot(np.cumsum(pca.explained_variance_ratio_))\n",
        "ax.set(xlabel='Component', ylabel='Cumulative Variance')"
      ]
    },
    {
      "cell_type": "markdown",
      "metadata": {
        "id": "GCcqs2zAw9iK"
      },
      "source": [
        "It is observed that with around 200 components, It is possible to explain 95% of my data. Let's obtain this result precisely:"
      ]
    },
    {
      "cell_type": "code",
      "execution_count": 19,
      "metadata": {
        "colab": {
          "base_uri": "https://localhost:8080/"
        },
        "id": "hBvOJXc5xlTf",
        "outputId": "add44440-47f6-452e-8b3e-00afcb7b3534"
      },
      "outputs": [
        {
          "data": {
            "text/plain": [
              "np.int64(188)"
            ]
          },
          "execution_count": 19,
          "metadata": {},
          "output_type": "execute_result"
        }
      ],
      "source": [
        "cumulative_variance = np.cumsum(pca.explained_variance_ratio_)\n",
        "n_components = (cumulative_variance < 0.95).sum() + 1\n",
        "n_components"
      ]
    },
    {
      "cell_type": "code",
      "execution_count": 20,
      "metadata": {
        "id": "5qxP11nnyrFP"
      },
      "outputs": [],
      "source": [
        "pca = PCA(n_components=n_components).fit(X_train_norm)"
      ]
    },
    {
      "cell_type": "code",
      "execution_count": 21,
      "metadata": {
        "id": "cvuRsTBgzAt5"
      },
      "outputs": [],
      "source": [
        "X_train_t = pca.transform(X_train_norm)\n",
        "X_train_r = pca.inverse_transform(X_train_t)"
      ]
    },
    {
      "cell_type": "code",
      "execution_count": 22,
      "metadata": {
        "colab": {
          "base_uri": "https://localhost:8080/",
          "height": 585
        },
        "id": "JkcSOG5Rzj-N",
        "outputId": "fc39313e-9c65-4fee-c0fd-e41892551b0d"
      },
      "outputs": [
        {
          "data": {
            "image/png": "[encoded data removed]",
            "text/plain": [
              "<Figure size 1600x300 with 5 Axes>"
            ]
          },
          "metadata": {},
          "output_type": "display_data"
        },
        {
          "data": {
            "image/png": "[encoded data removed]",
            "text/plain": [
              "<Figure size 1600x300 with 5 Axes>"
            ]
          },
          "metadata": {},
          "output_type": "display_data"
        }
      ],
      "source": [
        "fig, axes = plt.subplots(1, 5, figsize=(16, 3))\n",
        "\n",
        "for i in range(5):\n",
        "    pixels = X_train_norm.values[i].reshape(784)\n",
        "    column = i % 5\n",
        "    axes[column].imshow(pixels.reshape((28, 28)), cmap=plt.cm.binary)\n",
        "    axes[column].set_title('Original')\n",
        "\n",
        "fig, axes = plt.subplots(1, 5, figsize=(16, 3))\n",
        "\n",
        "for i in range(5):\n",
        "    pixels = X_train_r[i].reshape(784)\n",
        "    column = i % 5\n",
        "    axes[column].imshow(pixels.reshape((28, 28)), cmap=plt.cm.binary)\n",
        "    axes[column].set_title('Reconstructed')"
      ]
    },
    {
      "cell_type": "markdown",
      "metadata": {
        "id": "lG2sppr5A1zk"
      },
      "source": [
        "# 4. Modeling"
      ]
    },
    {
      "cell_type": "markdown",
      "metadata": {
        "id": "VzE2-S2U1wQ9"
      },
      "source": [
        "## 4.1. KNN"
      ]
    },
    {
      "cell_type": "code",
      "execution_count": 29,
      "metadata": {
        "id": "I026bTg32z0a"
      },
      "outputs": [],
      "source": [
        "from sklearn import neighbors\n",
        "from sklearn.model_selection import GridSearchCV\n",
        "from sklearn.metrics import accuracy_score\n",
        "from sklearn.metrics import classification_report"
      ]
    },
    {
      "cell_type": "code",
      "execution_count": 64,
      "metadata": {
        "id": "AiMcxhs-6ekc"
      },
      "outputs": [],
      "source": [
        "# params = {\n",
        "#     'n_neighbors': [5, 10, 15, 20],\n",
        "#     'metric': ['euclidean', 'manhattan']\n",
        "# }"
      ]
    },
    {
      "cell_type": "code",
      "execution_count": 65,
      "metadata": {
        "id": "7EFj9ggQ69WW"
      },
      "outputs": [],
      "source": [
        "# knn = neighbors.KNeighborsClassifier()\n",
        "# grid_search = GridSearchCV(knn, params, cv=3)\n",
        "# grid_search.fit(X_train_r, y_train)"
      ]
    },
    {
      "cell_type": "markdown",
      "metadata": {
        "id": "dWOXsCuYZh2c"
      },
      "source": [
        "As a first approach to classifying the data, we propose training 3 models as follows:\n",
        "- **Model 1**: The original pixels will be used for training.\n",
        "- **Model 2**: The normalized pixels will be used for training.\n",
        "- **Model 3**: The normalized and dimensionality-reduced pixels will be used for training.\n",
        "\n",
        "Performing a grid search requires a very high computational cost. For this reason, it will not be conducted. Instead, since we know from the beginning that our classification problem involves 10 classes, we can set the number of neighbors parameter to 10."
      ]
    },
    {
      "cell_type": "code",
      "execution_count": 66,
      "metadata": {
        "id": "zN6R49BJaN_s"
      },
      "outputs": [],
      "source": [
        "# n_neighbors\n",
        "n = 10\n",
        "\n",
        "# knn instances\n",
        "knn_1 = neighbors.KNeighborsClassifier(n_neighbors=n)\n",
        "knn_2 = neighbors.KNeighborsClassifier(n_neighbors=n)\n",
        "knn_3 = neighbors.KNeighborsClassifier(n_neighbors=n)\n",
        "\n",
        "# Models training\n",
        "knn_1.fit(X_train, y_train)\n",
        "knn_2.fit(X_train_norm, y_train)\n",
        "knn_3.fit(X_train_r, y_train)\n",
        "\n",
        "# Model prediction\n",
        "y_pred1 = knn_1.predict(X_test)\n",
        "y_pred2 = knn_2.predict(X_test_norm)\n",
        "y_pred3 = knn_3.predict(X_test_norm)"
      ]
    },
    {
      "cell_type": "code",
      "execution_count": 67,
      "metadata": {
        "colab": {
          "base_uri": "https://localhost:8080/"
        },
        "id": "Y3A_KxbSwcyF",
        "outputId": "8c4863b6-eadd-489d-caf8-e0e2fa748608"
      },
      "outputs": [
        {
          "name": "stdout",
          "output_type": "stream",
          "text": [
            "Score of the model trained with original pixels: \n",
            "\n",
            "               precision    recall  f1-score   support\n",
            "\n",
            " T-shirt/top     0.7696    0.8750    0.8189      1000\n",
            "     Trouser     0.9877    0.9650    0.9762      1000\n",
            "    Pullover     0.7516    0.8110    0.7802      1000\n",
            "       Dress     0.9068    0.8850    0.8957      1000\n",
            "        Coat     0.7942    0.7990    0.7966      1000\n",
            "      Sandal     0.9938    0.7980    0.8852      1000\n",
            "       Shirt     0.6741    0.5770    0.6218      1000\n",
            "     Sneaker     0.8573    0.9490    0.9008      1000\n",
            "         Bag     0.9754    0.9520    0.9636      1000\n",
            "  Ankle boot     0.8883    0.9620    0.9237      1000\n",
            "\n",
            "    accuracy                         0.8573     10000\n",
            "   macro avg     0.8599    0.8573    0.8563     10000\n",
            "weighted avg     0.8599    0.8573    0.8563     10000\n",
            "\n",
            "Score of the model trained with normalized pixels: \n",
            "\n",
            "               precision    recall  f1-score   support\n",
            "\n",
            " T-shirt/top     0.7687    0.8740    0.8180      1000\n",
            "     Trouser     0.9877    0.9650    0.9762      1000\n",
            "    Pullover     0.7523    0.8110    0.7806      1000\n",
            "       Dress     0.9068    0.8850    0.8957      1000\n",
            "        Coat     0.7944    0.8000    0.7972      1000\n",
            "      Sandal     0.9938    0.8000    0.8864      1000\n",
            "       Shirt     0.6721    0.5760    0.6204      1000\n",
            "     Sneaker     0.8596    0.9490    0.9021      1000\n",
            "         Bag     0.9764    0.9530    0.9646      1000\n",
            "  Ankle boot     0.8892    0.9630    0.9246      1000\n",
            "\n",
            "    accuracy                         0.8576     10000\n",
            "   macro avg     0.8601    0.8576    0.8566     10000\n",
            "weighted avg     0.8601    0.8576    0.8566     10000\n",
            "\n",
            "Score of the model trained with dimensionality-reduced pixels: \n",
            "\n",
            "               precision    recall  f1-score   support\n",
            "\n",
            " T-shirt/top     0.7730    0.8650    0.8164      1000\n",
            "     Trouser     0.9928    0.9680    0.9803      1000\n",
            "    Pullover     0.7780    0.8060    0.7917      1000\n",
            "       Dress     0.9128    0.9000    0.9063      1000\n",
            "        Coat     0.7955    0.8210    0.8081      1000\n",
            "      Sandal     0.9884    0.8530    0.9157      1000\n",
            "       Shirt     0.6794    0.5850    0.6287      1000\n",
            "     Sneaker     0.8793    0.9470    0.9119      1000\n",
            "         Bag     0.9697    0.9610    0.9653      1000\n",
            "  Ankle boot     0.9019    0.9560    0.9282      1000\n",
            "\n",
            "    accuracy                         0.8662     10000\n",
            "   macro avg     0.8671    0.8662    0.8653     10000\n",
            "weighted avg     0.8671    0.8662    0.8653     10000\n",
            "\n"
          ]
        }
      ],
      "source": [
        "# Class names\n",
        "target_names = list(class_names.values())\n",
        "\n",
        "# Score\n",
        "report_1 = (classification_report(y_test, y_pred1, digits=4, target_names=target_names))\n",
        "report_2 = (classification_report(y_test, y_pred2, digits=4, target_names=target_names))\n",
        "report_3 = (classification_report(y_test, y_pred3, digits=4, target_names=target_names))\n",
        "\n",
        "# Print\n",
        "print(\"Score of the model trained with original pixels: \\n\\n\", report_1)\n",
        "print(\"Score of the model trained with normalized pixels: \\n\\n\", report_2)\n",
        "print(\"Score of the model trained with dimensionality-reduced pixels: \\n\\n\", report_3)"
      ]
    },
    {
      "cell_type": "markdown",
      "metadata": {
        "id": "SnGiScajz1o-"
      },
      "source": [
        "As observed, the best results are obtained when using the dataset that was dimensionality-reduced using PCA."
      ]
    },
    {
      "cell_type": "markdown",
      "metadata": {
        "id": "0hbOPo33MYua"
      },
      "source": [
        "## 4.2 Decision Three Classifier"
      ]
    },
    {
      "cell_type": "markdown",
      "metadata": {
        "id": "uETy9ZpA1uV0"
      },
      "source": [
        "A preliminary experiment is conducted where different parameter values are manually reviewed and tested, achieving better performance values.\n",
        "\n",
        "Subsequently, specific hyperparameters are tested on the different types of available data (raw, normalized, dimensionality-reduced).\n",
        "\n",
        "Finally, cross-validation is performed to determine the best dataset.\n",
        "\n",
        "The most important hyperparameters to experiment with are: Max Depth, criterion, min_impurity decrease, and min sample leafs."
      ]
    },
    {
      "cell_type": "markdown",
      "metadata": {
        "id": "rpguC1myNoAL"
      },
      "source": [
        "### 4.2.1. Estimation of Max Depth Hyperparameter"
      ]
    },
    {
      "cell_type": "markdown",
      "metadata": {
        "id": "kFV5_nkUTGmH"
      },
      "source": [
        "Below, we observe how the best hyperparameter (Max Depth) was estimated, and the generalized and training errors are plotted as it increases."
      ]
    },
    {
      "cell_type": "code",
      "execution_count": 23,
      "metadata": {
        "id": "biPavQUfb7s4"
      },
      "outputs": [],
      "source": [
        "from sklearn.tree import DecisionTreeClassifier\n",
        "from sklearn.model_selection import GridSearchCV"
      ]
    },
    {
      "cell_type": "code",
      "execution_count": 24,
      "metadata": {
        "id": "GhY5uTi4NoAS"
      },
      "outputs": [],
      "source": [
        "# Function to visualize the learning curve based\n",
        "# on the training and generalization error.\n",
        "def plot_learning_curve(train_error, generalization_error):\n",
        "  n = len(train_error)\n",
        "  if len(train_error) != len(generalization_error):\n",
        "    print(\"The training and generalization error sequences must be of the same length.\")\n",
        "    return\n",
        "\n",
        "  balance_point = np.array(generalization_error).argmin() + 1\n",
        "  plt.figure(figsize = (8, 5), dpi = 105)\n",
        "\n",
        "  plt.plot(range(1, n + 1), train_error, label=\"Training\")\n",
        "  plt.plot(range(1, n + 1), generalization_error, label=\"Generalization\")\n",
        "  plt.xticks(range(0, n + 1, 2))\n",
        "  plt.xlabel(\"Max depth\")\n",
        "  plt.ylabel(\"Error\")\n",
        "  y_min, y_max = plt.gca().get_ylim()\n",
        "  plt.vlines(balance_point, y_min, y_max, colors = ['red'], linestyles = ['dashdot'])\n",
        "  plt.ylim([y_min, y_max])\n",
        "  plt.text(balance_point + 1, 0.165, 'Balance point')\n",
        "  plt.legend()"
      ]
    },
    {
      "cell_type": "code",
      "execution_count": 25,
      "metadata": {
        "id": "-oe68iy1NoAS"
      },
      "outputs": [],
      "source": [
        "# Integers from 1 to 20 as possible values for the depth hyperparameter.\n",
        "max_depth_values = np.arange(1, 21, 1)\n",
        "\n",
        "# Empty arrays to store the training and generalization errors.\n",
        "train_error = np.empty(len(max_depth_values))\n",
        "generalization_error = np.empty(len(max_depth_values))\n",
        "\n",
        "\n",
        "for depth in max_depth_values:\n",
        "    # We train a decision tree for each depth value.\n",
        "    decision_tree = DecisionTreeClassifier(max_depth=depth)\n",
        "    decision_tree.fit(X_train, y_train)\n",
        "\n",
        "    # We store the training and generalization errors for each tree.\n",
        "    train_error[depth - 1] = (1 - decision_tree.score(X_train, y_train))\n",
        "    generalization_error[depth - 1] = (1 - decision_tree.score(X_test, y_test))"
      ]
    },
    {
      "cell_type": "code",
      "execution_count": 26,
      "metadata": {
        "colab": {
          "base_uri": "https://localhost:8080/",
          "height": 494
        },
        "id": "6HqMuNHMNoAS",
        "outputId": "f1a39f90-954a-4c6c-81d9-cbde632a061a"
      },
      "outputs": [
        {
          "data": {
            "image/png": "[encoded data removed]",
            "text/plain": [
              "<Figure size 840x525 with 1 Axes>"
            ]
          },
          "metadata": {},
          "output_type": "display_data"
        }
      ],
      "source": [
        "plot_learning_curve(train_error, generalization_error)"
      ]
    },
    {
      "cell_type": "markdown",
      "metadata": {
        "id": "zIAIsPHhYxtM"
      },
      "source": [
        "### 4.2.2. Model Comparison"
      ]
    },
    {
      "cell_type": "markdown",
      "metadata": {
        "id": "HVu0LThUQkDk"
      },
      "source": [
        "Three models are trained with parameters chosen after manual experimentation:\n",
        "\n",
        "- **Model 1**: The original pixels will be used for training.\n",
        "- **Model 2**: The normalized pixels will be used for training.\n",
        "- **Model 3**: The normalized and dimensionality-reduced pixels will be used for training.\n",
        "\n",
        "This is done to determine which model has the lowest error and thus select the model for cross-validation."
      ]
    },
    {
      "cell_type": "code",
      "execution_count": null,
      "metadata": {},
      "outputs": [],
      "source": []
    },
    {
      "cell_type": "code",
      "execution_count": 27,
      "metadata": {
        "id": "cOBmmpUVfctX"
      },
      "outputs": [],
      "source": [
        "decision_three_1 = DecisionTreeClassifier( max_depth=12,\n",
        "                                            min_impurity_decrease=0.0001,\n",
        "                                             criterion= 'entropy',\n",
        "                                            min_samples_leaf=8\n",
        "                                             )\n",
        "decision_three_2 = DecisionTreeClassifier( max_depth=12,\n",
        "                                            min_impurity_decrease=0.0001,\n",
        "                                             criterion= 'entropy',\n",
        "                                            min_samples_leaf=8\n",
        "                                             )\n",
        "decision_three_3 = DecisionTreeClassifier( max_depth=12,\n",
        "                                            min_impurity_decrease=0.0001,\n",
        "                                             criterion= 'entropy',\n",
        "                                            min_samples_leaf=8\n",
        "                                             )\n",
        "\n",
        "# Models training\n",
        "decision_three_1.fit(X_train, y_train)\n",
        "decision_three_2.fit(X_train_norm, y_train)\n",
        "decision_three_3.fit(X_train_r, y_train)\n",
        "\n",
        "# Model prediction\n",
        "y_pred1 = decision_three_1.predict(X_test)\n",
        "y_pred2 = decision_three_2.predict(X_test_norm)\n",
        "y_pred3 = decision_three_3.predict(X_test_norm)"
      ]
    },
    {
      "cell_type": "code",
      "execution_count": 30,
      "metadata": {
        "colab": {
          "base_uri": "https://localhost:8080/"
        },
        "id": "DtadxpCbfctd",
        "outputId": "075ebf1b-efd8-44f6-e7a7-7848d70caf4b"
      },
      "outputs": [
        {
          "name": "stdout",
          "output_type": "stream",
          "text": [
            "Score of the model trained with original pixels: \n",
            "\n",
            "               precision    recall  f1-score   support\n",
            "\n",
            " T-shirt/top     0.7528    0.8040    0.7776      1000\n",
            "     Trouser     0.9419    0.9560    0.9489      1000\n",
            "    Pullover     0.7124    0.7110    0.7117      1000\n",
            "       Dress     0.8411    0.8470    0.8440      1000\n",
            "        Coat     0.7190    0.7550    0.7366      1000\n",
            "      Sandal     0.9136    0.8880    0.9006      1000\n",
            "       Shirt     0.6172    0.5370    0.5743      1000\n",
            "     Sneaker     0.8463    0.9030    0.8737      1000\n",
            "         Bag     0.9417    0.9200    0.9307      1000\n",
            "  Ankle boot     0.9139    0.8920    0.9028      1000\n",
            "\n",
            "    accuracy                         0.8213     10000\n",
            "   macro avg     0.8200    0.8213    0.8201     10000\n",
            "weighted avg     0.8200    0.8213    0.8201     10000\n",
            "\n",
            "Score of the model trained with normalized pixels: \n",
            "\n",
            "               precision    recall  f1-score   support\n",
            "\n",
            " T-shirt/top     0.7535    0.8010    0.7765      1000\n",
            "     Trouser     0.9437    0.9560    0.9498      1000\n",
            "    Pullover     0.7149    0.7120    0.7134      1000\n",
            "       Dress     0.8416    0.8450    0.8433      1000\n",
            "        Coat     0.7188    0.7540    0.7360      1000\n",
            "      Sandal     0.9119    0.8900    0.9008      1000\n",
            "       Shirt     0.6123    0.5370    0.5722      1000\n",
            "     Sneaker     0.8480    0.9040    0.8751      1000\n",
            "         Bag     0.9408    0.9210    0.9308      1000\n",
            "  Ankle boot     0.9130    0.8920    0.9024      1000\n",
            "\n",
            "    accuracy                         0.8212     10000\n",
            "   macro avg     0.8199    0.8212    0.8200     10000\n",
            "weighted avg     0.8199    0.8212    0.8200     10000\n",
            "\n",
            "Score of the model trained with dimensionality-reduced pixels: \n",
            "\n",
            "               precision    recall  f1-score   support\n",
            "\n",
            " T-shirt/top     0.7436    0.7570    0.7502      1000\n",
            "     Trouser     0.9514    0.9400    0.9457      1000\n",
            "    Pullover     0.7196    0.7110    0.7153      1000\n",
            "       Dress     0.8002    0.8330    0.8163      1000\n",
            "        Coat     0.6733    0.7790    0.7223      1000\n",
            "      Sandal     0.8278    0.8800    0.8531      1000\n",
            "       Shirt     0.5828    0.4750    0.5234      1000\n",
            "     Sneaker     0.8534    0.8090    0.8306      1000\n",
            "         Bag     0.9233    0.8790    0.9006      1000\n",
            "  Ankle boot     0.8631    0.8890    0.8759      1000\n",
            "\n",
            "    accuracy                         0.7952     10000\n",
            "   macro avg     0.7939    0.7952    0.7933     10000\n",
            "weighted avg     0.7939    0.7952    0.7933     10000\n",
            "\n"
          ]
        }
      ],
      "source": [
        "# Class names\n",
        "target_names = list(class_names.values())\n",
        "\n",
        "# Score\n",
        "report_1 = (classification_report(y_test, y_pred1, digits=4, target_names=target_names))\n",
        "report_2 = (classification_report(y_test, y_pred2, digits=4, target_names=target_names))\n",
        "report_3 = (classification_report(y_test, y_pred3, digits=4, target_names=target_names))\n",
        "\n",
        "# Print\n",
        "print(\"Score of the model trained with original pixels: \\n\\n\", report_1)\n",
        "print(\"Score of the model trained with normalized pixels: \\n\\n\", report_2)\n",
        "print(\"Score of the model trained with dimensionality-reduced pixels: \\n\\n\", report_3)"
      ]
    },
    {
      "cell_type": "markdown",
      "metadata": {
        "id": "SGCfR5I4SVS4"
      },
      "source": [
        "All data without normalization or resizing is selected, and cross-validation is performed."
      ]
    },
    {
      "cell_type": "markdown",
      "metadata": {
        "id": "sfBIBH5XSkjp"
      },
      "source": [
        "### 4.2.3. Cross-Validation with Grid Search CV\n"
      ]
    },
    {
      "cell_type": "code",
      "execution_count": 31,
      "metadata": {
        "colab": {
          "base_uri": "https://localhost:8080/"
        },
        "id": "Q7R-47MxSkjq",
        "outputId": "76d2b3c9-66e8-4dfd-b659-2f06bb12ac47"
      },
      "outputs": [
        {
          "data": {
            "text/plain": [
              "{'criterion': ['gini', 'entropy'],\n",
              " 'min_impurity_decrease': [1e-05, 0.0001, 0.001, 0.01, 0.1],\n",
              " 'min_samples_leaf': [1, 2, 4, 8, 10],\n",
              " 'max_features': range(20, 100, 20),\n",
              " 'max_depth': [12]}"
            ]
          },
          "execution_count": 31,
          "metadata": {},
          "output_type": "execute_result"
        }
      ],
      "source": [
        "# Hyperparameters must be in the form of a dictionary.\n",
        "param_grid = {'criterion':     ['gini','entropy'],\n",
        "              'min_impurity_decrease': [0.00001,0.0001,0.001,0.01,0.1,],\n",
        "              'min_samples_leaf': [1,2,4,8,10],\n",
        "              'max_features': range(20,100,20),\n",
        "              'max_depth': [12,],\n",
        "              }\n",
        "\n",
        "param_grid"
      ]
    },
    {
      "cell_type": "code",
      "execution_count": 32,
      "metadata": {
        "colab": {
          "base_uri": "https://localhost:8080/",
          "height": 166
        },
        "id": "k_1KO9nJSkjq",
        "outputId": "cd36039b-a5f3-469f-a82a-7633a344bcd7"
      },
      "outputs": [
        {
          "data": {
            "text/html": [
              "<style>#sk-container-id-1 {\n",
              "  /* Definition of color scheme common for light and dark mode */\n",
              "  --sklearn-color-text: #000;\n",
              "  --sklearn-color-text-muted: #666;\n",
              "  --sklearn-color-line: gray;\n",
              "  /* Definition of color scheme for unfitted estimators */\n",
              "  --sklearn-color-unfitted-level-0: #fff5e6;\n",
              "  --sklearn-color-unfitted-level-1: #f6e4d2;\n",
              "  --sklearn-color-unfitted-level-2: #ffe0b3;\n",
              "  --sklearn-color-unfitted-level-3: chocolate;\n",
              "  /* Definition of color scheme for fitted estimators */\n",
              "  --sklearn-color-fitted-level-0: #f0f8ff;\n",
              "  --sklearn-color-fitted-level-1: #d4ebff;\n",
              "  --sklearn-color-fitted-level-2: #b3dbfd;\n",
              "  --sklearn-color-fitted-level-3: cornflowerblue;\n",
              "\n",
              "  /* Specific color for light theme */\n",
              "  --sklearn-color-text-on-default-background: var(--sg-text-color, var(--theme-code-foreground, var(--jp-content-font-color1, black)));\n",
              "  --sklearn-color-background: var(--sg-background-color, var(--theme-background, var(--jp-layout-color0, white)));\n",
              "  --sklearn-color-border-box: var(--sg-text-color, var(--theme-code-foreground, var(--jp-content-font-color1, black)));\n",
              "  --sklearn-color-icon: #696969;\n",
              "\n",
              "  @media (prefers-color-scheme: dark) {\n",
              "    /* Redefinition of color scheme for dark theme */\n",
              "    --sklearn-color-text-on-default-background: var(--sg-text-color, var(--theme-code-foreground, var(--jp-content-font-color1, white)));\n",
              "    --sklearn-color-background: var(--sg-background-color, var(--theme-background, var(--jp-layout-color0, #111)));\n",
              "    --sklearn-color-border-box: var(--sg-text-color, var(--theme-code-foreground, var(--jp-content-font-color1, white)));\n",
              "    --sklearn-color-icon: #878787;\n",
              "  }\n",
              "}\n",
              "\n",
              "#sk-container-id-1 {\n",
              "  color: var(--sklearn-color-text);\n",
              "}\n",
              "\n",
              "#sk-container-id-1 pre {\n",
              "  padding: 0;\n",
              "}\n",
              "\n",
              "#sk-container-id-1 input.sk-hidden--visually {\n",
              "  border: 0;\n",
              "  clip: rect(1px 1px 1px 1px);\n",
              "  clip: rect(1px, 1px, 1px, 1px);\n",
              "  height: 1px;\n",
              "  margin: -1px;\n",
              "  overflow: hidden;\n",
              "  padding: 0;\n",
              "  position: absolute;\n",
              "  width: 1px;\n",
              "}\n",
              "\n",
              "#sk-container-id-1 div.sk-dashed-wrapped {\n",
              "  border: 1px dashed var(--sklearn-color-line);\n",
              "  margin: 0 0.4em 0.5em 0.4em;\n",
              "  box-sizing: border-box;\n",
              "  padding-bottom: 0.4em;\n",
              "  background-color: var(--sklearn-color-background);\n",
              "}\n",
              "\n",
              "#sk-container-id-1 div.sk-container {\n",
              "  /* jupyter's `normalize.less` sets `[hidden] { display: none; }`\n",
              "     but bootstrap.min.css set `[hidden] { display: none !important; }`\n",
              "     so we also need the `!important` here to be able to override the\n",
              "     default hidden behavior on the sphinx rendered scikit-learn.org.\n",
              "     See: https://github.com/scikit-learn/scikit-learn/issues/21755 */\n",
              "  display: inline-block !important;\n",
              "  position: relative;\n",
              "}\n",
              "\n",
              "#sk-container-id-1 div.sk-text-repr-fallback {\n",
              "  display: none;\n",
              "}\n",
              "\n",
              "div.sk-parallel-item,\n",
              "div.sk-serial,\n",
              "div.sk-item {\n",
              "  /* draw centered vertical line to link estimators */\n",
              "  background-image: linear-gradient(var(--sklearn-color-text-on-default-background), var(--sklearn-color-text-on-default-background));\n",
              "  background-size: 2px 100%;\n",
              "  background-repeat: no-repeat;\n",
              "  background-position: center center;\n",
              "}\n",
              "\n",
              "/* Parallel-specific style estimator block */\n",
              "\n",
              "#sk-container-id-1 div.sk-parallel-item::after {\n",
              "  content: \"\";\n",
              "  width: 100%;\n",
              "  border-bottom: 2px solid var(--sklearn-color-text-on-default-background);\n",
              "  flex-grow: 1;\n",
              "}\n",
              "\n",
              "#sk-container-id-1 div.sk-parallel {\n",
              "  display: flex;\n",
              "  align-items: stretch;\n",
              "  justify-content: center;\n",
              "  background-color: var(--sklearn-color-background);\n",
              "  position: relative;\n",
              "}\n",
              "\n",
              "#sk-container-id-1 div.sk-parallel-item {\n",
              "  display: flex;\n",
              "  flex-direction: column;\n",
              "}\n",
              "\n",
              "#sk-container-id-1 div.sk-parallel-item:first-child::after {\n",
              "  align-self: flex-end;\n",
              "  width: 50%;\n",
              "}\n",
              "\n",
              "#sk-container-id-1 div.sk-parallel-item:last-child::after {\n",
              "  align-self: flex-start;\n",
              "  width: 50%;\n",
              "}\n",
              "\n",
              "#sk-container-id-1 div.sk-parallel-item:only-child::after {\n",
              "  width: 0;\n",
              "}\n",
              "\n",
              "/* Serial-specific style estimator block */\n",
              "\n",
              "#sk-container-id-1 div.sk-serial {\n",
              "  display: flex;\n",
              "  flex-direction: column;\n",
              "  align-items: center;\n",
              "  background-color: var(--sklearn-color-background);\n",
              "  padding-right: 1em;\n",
              "  padding-left: 1em;\n",
              "}\n",
              "\n",
              "\n",
              "/* Toggleable style: style used for estimator/Pipeline/ColumnTransformer box that is\n",
              "clickable and can be expanded/collapsed.\n",
              "- Pipeline and ColumnTransformer use this feature and define the default style\n",
              "- Estimators will overwrite some part of the style using the `sk-estimator` class\n",
              "*/\n",
              "\n",
              "/* Pipeline and ColumnTransformer style (default) */\n",
              "\n",
              "#sk-container-id-1 div.sk-toggleable {\n",
              "  /* Default theme specific background. It is overwritten whether we have a\n",
              "  specific estimator or a Pipeline/ColumnTransformer */\n",
              "  background-color: var(--sklearn-color-background);\n",
              "}\n",
              "\n",
              "/* Toggleable label */\n",
              "#sk-container-id-1 label.sk-toggleable__label {\n",
              "  cursor: pointer;\n",
              "  display: flex;\n",
              "  width: 100%;\n",
              "  margin-bottom: 0;\n",
              "  padding: 0.5em;\n",
              "  box-sizing: border-box;\n",
              "  text-align: center;\n",
              "  align-items: start;\n",
              "  justify-content: space-between;\n",
              "  gap: 0.5em;\n",
              "}\n",
              "\n",
              "#sk-container-id-1 label.sk-toggleable__label .caption {\n",
              "  font-size: 0.6rem;\n",
              "  font-weight: lighter;\n",
              "  color: var(--sklearn-color-text-muted);\n",
              "}\n",
              "\n",
              "#sk-container-id-1 label.sk-toggleable__label-arrow:before {\n",
              "  /* Arrow on the left of the label */\n",
              "  content: \"▸\";\n",
              "  float: left;\n",
              "  margin-right: 0.25em;\n",
              "  color: var(--sklearn-color-icon);\n",
              "}\n",
              "\n",
              "#sk-container-id-1 label.sk-toggleable__label-arrow:hover:before {\n",
              "  color: var(--sklearn-color-text);\n",
              "}\n",
              "\n",
              "/* Toggleable content - dropdown */\n",
              "\n",
              "#sk-container-id-1 div.sk-toggleable__content {\n",
              "  max-height: 0;\n",
              "  max-width: 0;\n",
              "  overflow: hidden;\n",
              "  text-align: left;\n",
              "  /* unfitted */\n",
              "  background-color: var(--sklearn-color-unfitted-level-0);\n",
              "}\n",
              "\n",
              "#sk-container-id-1 div.sk-toggleable__content.fitted {\n",
              "  /* fitted */\n",
              "  background-color: var(--sklearn-color-fitted-level-0);\n",
              "}\n",
              "\n",
              "#sk-container-id-1 div.sk-toggleable__content pre {\n",
              "  margin: 0.2em;\n",
              "  border-radius: 0.25em;\n",
              "  color: var(--sklearn-color-text);\n",
              "  /* unfitted */\n",
              "  background-color: var(--sklearn-color-unfitted-level-0);\n",
              "}\n",
              "\n",
              "#sk-container-id-1 div.sk-toggleable__content.fitted pre {\n",
              "  /* unfitted */\n",
              "  background-color: var(--sklearn-color-fitted-level-0);\n",
              "}\n",
              "\n",
              "#sk-container-id-1 input.sk-toggleable__control:checked~div.sk-toggleable__content {\n",
              "  /* Expand drop-down */\n",
              "  max-height: 200px;\n",
              "  max-width: 100%;\n",
              "  overflow: auto;\n",
              "}\n",
              "\n",
              "#sk-container-id-1 input.sk-toggleable__control:checked~label.sk-toggleable__label-arrow:before {\n",
              "  content: \"▾\";\n",
              "}\n",
              "\n",
              "/* Pipeline/ColumnTransformer-specific style */\n",
              "\n",
              "#sk-container-id-1 div.sk-label input.sk-toggleable__control:checked~label.sk-toggleable__label {\n",
              "  color: var(--sklearn-color-text);\n",
              "  background-color: var(--sklearn-color-unfitted-level-2);\n",
              "}\n",
              "\n",
              "#sk-container-id-1 div.sk-label.fitted input.sk-toggleable__control:checked~label.sk-toggleable__label {\n",
              "  background-color: var(--sklearn-color-fitted-level-2);\n",
              "}\n",
              "\n",
              "/* Estimator-specific style */\n",
              "\n",
              "/* Colorize estimator box */\n",
              "#sk-container-id-1 div.sk-estimator input.sk-toggleable__control:checked~label.sk-toggleable__label {\n",
              "  /* unfitted */\n",
              "  background-color: var(--sklearn-color-unfitted-level-2);\n",
              "}\n",
              "\n",
              "#sk-container-id-1 div.sk-estimator.fitted input.sk-toggleable__control:checked~label.sk-toggleable__label {\n",
              "  /* fitted */\n",
              "  background-color: var(--sklearn-color-fitted-level-2);\n",
              "}\n",
              "\n",
              "#sk-container-id-1 div.sk-label label.sk-toggleable__label,\n",
              "#sk-container-id-1 div.sk-label label {\n",
              "  /* The background is the default theme color */\n",
              "  color: var(--sklearn-color-text-on-default-background);\n",
              "}\n",
              "\n",
              "/* On hover, darken the color of the background */\n",
              "#sk-container-id-1 div.sk-label:hover label.sk-toggleable__label {\n",
              "  color: var(--sklearn-color-text);\n",
              "  background-color: var(--sklearn-color-unfitted-level-2);\n",
              "}\n",
              "\n",
              "/* Label box, darken color on hover, fitted */\n",
              "#sk-container-id-1 div.sk-label.fitted:hover label.sk-toggleable__label.fitted {\n",
              "  color: var(--sklearn-color-text);\n",
              "  background-color: var(--sklearn-color-fitted-level-2);\n",
              "}\n",
              "\n",
              "/* Estimator label */\n",
              "\n",
              "#sk-container-id-1 div.sk-label label {\n",
              "  font-family: monospace;\n",
              "  font-weight: bold;\n",
              "  display: inline-block;\n",
              "  line-height: 1.2em;\n",
              "}\n",
              "\n",
              "#sk-container-id-1 div.sk-label-container {\n",
              "  text-align: center;\n",
              "}\n",
              "\n",
              "/* Estimator-specific */\n",
              "#sk-container-id-1 div.sk-estimator {\n",
              "  font-family: monospace;\n",
              "  border: 1px dotted var(--sklearn-color-border-box);\n",
              "  border-radius: 0.25em;\n",
              "  box-sizing: border-box;\n",
              "  margin-bottom: 0.5em;\n",
              "  /* unfitted */\n",
              "  background-color: var(--sklearn-color-unfitted-level-0);\n",
              "}\n",
              "\n",
              "#sk-container-id-1 div.sk-estimator.fitted {\n",
              "  /* fitted */\n",
              "  background-color: var(--sklearn-color-fitted-level-0);\n",
              "}\n",
              "\n",
              "/* on hover */\n",
              "#sk-container-id-1 div.sk-estimator:hover {\n",
              "  /* unfitted */\n",
              "  background-color: var(--sklearn-color-unfitted-level-2);\n",
              "}\n",
              "\n",
              "#sk-container-id-1 div.sk-estimator.fitted:hover {\n",
              "  /* fitted */\n",
              "  background-color: var(--sklearn-color-fitted-level-2);\n",
              "}\n",
              "\n",
              "/* Specification for estimator info (e.g. \"i\" and \"?\") */\n",
              "\n",
              "/* Common style for \"i\" and \"?\" */\n",
              "\n",
              ".sk-estimator-doc-link,\n",
              "a:link.sk-estimator-doc-link,\n",
              "a:visited.sk-estimator-doc-link {\n",
              "  float: right;\n",
              "  font-size: smaller;\n",
              "  line-height: 1em;\n",
              "  font-family: monospace;\n",
              "  background-color: var(--sklearn-color-background);\n",
              "  border-radius: 1em;\n",
              "  height: 1em;\n",
              "  width: 1em;\n",
              "  text-decoration: none !important;\n",
              "  margin-left: 0.5em;\n",
              "  text-align: center;\n",
              "  /* unfitted */\n",
              "  border: var(--sklearn-color-unfitted-level-1) 1pt solid;\n",
              "  color: var(--sklearn-color-unfitted-level-1);\n",
              "}\n",
              "\n",
              ".sk-estimator-doc-link.fitted,\n",
              "a:link.sk-estimator-doc-link.fitted,\n",
              "a:visited.sk-estimator-doc-link.fitted {\n",
              "  /* fitted */\n",
              "  border: var(--sklearn-color-fitted-level-1) 1pt solid;\n",
              "  color: var(--sklearn-color-fitted-level-1);\n",
              "}\n",
              "\n",
              "/* On hover */\n",
              "div.sk-estimator:hover .sk-estimator-doc-link:hover,\n",
              ".sk-estimator-doc-link:hover,\n",
              "div.sk-label-container:hover .sk-estimator-doc-link:hover,\n",
              ".sk-estimator-doc-link:hover {\n",
              "  /* unfitted */\n",
              "  background-color: var(--sklearn-color-unfitted-level-3);\n",
              "  color: var(--sklearn-color-background);\n",
              "  text-decoration: none;\n",
              "}\n",
              "\n",
              "div.sk-estimator.fitted:hover .sk-estimator-doc-link.fitted:hover,\n",
              ".sk-estimator-doc-link.fitted:hover,\n",
              "div.sk-label-container:hover .sk-estimator-doc-link.fitted:hover,\n",
              ".sk-estimator-doc-link.fitted:hover {\n",
              "  /* fitted */\n",
              "  background-color: var(--sklearn-color-fitted-level-3);\n",
              "  color: var(--sklearn-color-background);\n",
              "  text-decoration: none;\n",
              "}\n",
              "\n",
              "/* Span, style for the box shown on hovering the info icon */\n",
              ".sk-estimator-doc-link span {\n",
              "  display: none;\n",
              "  z-index: 9999;\n",
              "  position: relative;\n",
              "  font-weight: normal;\n",
              "  right: .2ex;\n",
              "  padding: .5ex;\n",
              "  margin: .5ex;\n",
              "  width: min-content;\n",
              "  min-width: 20ex;\n",
              "  max-width: 50ex;\n",
              "  color: var(--sklearn-color-text);\n",
              "  box-shadow: 2pt 2pt 4pt #999;\n",
              "  /* unfitted */\n",
              "  background: var(--sklearn-color-unfitted-level-0);\n",
              "  border: .5pt solid var(--sklearn-color-unfitted-level-3);\n",
              "}\n",
              "\n",
              ".sk-estimator-doc-link.fitted span {\n",
              "  /* fitted */\n",
              "  background: var(--sklearn-color-fitted-level-0);\n",
              "  border: var(--sklearn-color-fitted-level-3);\n",
              "}\n",
              "\n",
              ".sk-estimator-doc-link:hover span {\n",
              "  display: block;\n",
              "}\n",
              "\n",
              "/* \"?\"-specific style due to the `<a>` HTML tag */\n",
              "\n",
              "#sk-container-id-1 a.estimator_doc_link {\n",
              "  float: right;\n",
              "  font-size: 1rem;\n",
              "  line-height: 1em;\n",
              "  font-family: monospace;\n",
              "  background-color: var(--sklearn-color-background);\n",
              "  border-radius: 1rem;\n",
              "  height: 1rem;\n",
              "  width: 1rem;\n",
              "  text-decoration: none;\n",
              "  /* unfitted */\n",
              "  color: var(--sklearn-color-unfitted-level-1);\n",
              "  border: var(--sklearn-color-unfitted-level-1) 1pt solid;\n",
              "}\n",
              "\n",
              "#sk-container-id-1 a.estimator_doc_link.fitted {\n",
              "  /* fitted */\n",
              "  border: var(--sklearn-color-fitted-level-1) 1pt solid;\n",
              "  color: var(--sklearn-color-fitted-level-1);\n",
              "}\n",
              "\n",
              "/* On hover */\n",
              "#sk-container-id-1 a.estimator_doc_link:hover {\n",
              "  /* unfitted */\n",
              "  background-color: var(--sklearn-color-unfitted-level-3);\n",
              "  color: var(--sklearn-color-background);\n",
              "  text-decoration: none;\n",
              "}\n",
              "\n",
              "#sk-container-id-1 a.estimator_doc_link.fitted:hover {\n",
              "  /* fitted */\n",
              "  background-color: var(--sklearn-color-fitted-level-3);\n",
              "}\n",
              "</style><div id=\"sk-container-id-1\" class=\"sk-top-container\"><div class=\"sk-text-repr-fallback\"><pre>GridSearchCV(cv=3, estimator=DecisionTreeClassifier(),\n",
              "             param_grid={&#x27;criterion&#x27;: [&#x27;gini&#x27;, &#x27;entropy&#x27;], &#x27;max_depth&#x27;: [12],\n",
              "                         &#x27;max_features&#x27;: range(20, 100, 20),\n",
              "                         &#x27;min_impurity_decrease&#x27;: [1e-05, 0.0001, 0.001, 0.01,\n",
              "                                                   0.1],\n",
              "                         &#x27;min_samples_leaf&#x27;: [1, 2, 4, 8, 10]},\n",
              "             return_train_score=True)</pre><b>In a Jupyter environment, please rerun this cell to show the HTML representation or trust the notebook. <br />On GitHub, the HTML representation is unable to render, please try loading this page with nbviewer.org.</b></div><div class=\"sk-container\" hidden><div class=\"sk-item sk-dashed-wrapped\"><div class=\"sk-label-container\"><div class=\"sk-label fitted sk-toggleable\"><input class=\"sk-toggleable__control sk-hidden--visually\" id=\"sk-estimator-id-1\" type=\"checkbox\" ><label for=\"sk-estimator-id-1\" class=\"sk-toggleable__label fitted sk-toggleable__label-arrow\"><div><div>GridSearchCV</div></div><div><a class=\"sk-estimator-doc-link fitted\" rel=\"noreferrer\" target=\"_blank\" href=\"https://scikit-learn.org/1.6/modules/generated/sklearn.model_selection.GridSearchCV.html\">?<span>Documentation for GridSearchCV</span></a><span class=\"sk-estimator-doc-link fitted\">i<span>Fitted</span></span></div></label><div class=\"sk-toggleable__content fitted\"><pre>GridSearchCV(cv=3, estimator=DecisionTreeClassifier(),\n",
              "             param_grid={&#x27;criterion&#x27;: [&#x27;gini&#x27;, &#x27;entropy&#x27;], &#x27;max_depth&#x27;: [12],\n",
              "                         &#x27;max_features&#x27;: range(20, 100, 20),\n",
              "                         &#x27;min_impurity_decrease&#x27;: [1e-05, 0.0001, 0.001, 0.01,\n",
              "                                                   0.1],\n",
              "                         &#x27;min_samples_leaf&#x27;: [1, 2, 4, 8, 10]},\n",
              "             return_train_score=True)</pre></div> </div></div><div class=\"sk-parallel\"><div class=\"sk-parallel-item\"><div class=\"sk-item\"><div class=\"sk-label-container\"><div class=\"sk-label fitted sk-toggleable\"><input class=\"sk-toggleable__control sk-hidden--visually\" id=\"sk-estimator-id-2\" type=\"checkbox\" ><label for=\"sk-estimator-id-2\" class=\"sk-toggleable__label fitted sk-toggleable__label-arrow\"><div><div>best_estimator_: DecisionTreeClassifier</div></div></label><div class=\"sk-toggleable__content fitted\"><pre>DecisionTreeClassifier(criterion=&#x27;entropy&#x27;, max_depth=12, max_features=80,\n",
              "                       min_impurity_decrease=0.0001, min_samples_leaf=2)</pre></div> </div></div><div class=\"sk-serial\"><div class=\"sk-item\"><div class=\"sk-estimator fitted sk-toggleable\"><input class=\"sk-toggleable__control sk-hidden--visually\" id=\"sk-estimator-id-3\" type=\"checkbox\" ><label for=\"sk-estimator-id-3\" class=\"sk-toggleable__label fitted sk-toggleable__label-arrow\"><div><div>DecisionTreeClassifier</div></div><div><a class=\"sk-estimator-doc-link fitted\" rel=\"noreferrer\" target=\"_blank\" href=\"https://scikit-learn.org/1.6/modules/generated/sklearn.tree.DecisionTreeClassifier.html\">?<span>Documentation for DecisionTreeClassifier</span></a></div></label><div class=\"sk-toggleable__content fitted\"><pre>DecisionTreeClassifier(criterion=&#x27;entropy&#x27;, max_depth=12, max_features=80,\n",
              "                       min_impurity_decrease=0.0001, min_samples_leaf=2)</pre></div> </div></div></div></div></div></div></div></div></div>"
            ],
            "text/plain": [
              "GridSearchCV(cv=3, estimator=DecisionTreeClassifier(),\n",
              "             param_grid={'criterion': ['gini', 'entropy'], 'max_depth': [12],\n",
              "                         'max_features': range(20, 100, 20),\n",
              "                         'min_impurity_decrease': [1e-05, 0.0001, 0.001, 0.01,\n",
              "                                                   0.1],\n",
              "                         'min_samples_leaf': [1, 2, 4, 8, 10]},\n",
              "             return_train_score=True)"
            ]
          },
          "execution_count": 32,
          "metadata": {},
          "output_type": "execute_result"
        }
      ],
      "source": [
        "# Grid search for hyperparameters.\n",
        "from sklearn.model_selection import GridSearchCV\n",
        "\n",
        "grid_clf = GridSearchCV(DecisionTreeClassifier( ),\n",
        "                   param_grid=param_grid,\n",
        "                   return_train_score=True,\n",
        "                   cv=3\n",
        "                   )\n",
        "\n",
        "grid_clf.fit(X_train, y_train)"
      ]
    },
    {
      "cell_type": "code",
      "execution_count": 33,
      "metadata": {
        "colab": {
          "base_uri": "https://localhost:8080/"
        },
        "id": "6HXhfvYNSkjq",
        "outputId": "430b1360-868b-44a3-92a1-61516092d573"
      },
      "outputs": [
        {
          "name": "stdout",
          "output_type": "stream",
          "text": [
            "{'criterion': 'entropy', 'max_depth': 12, 'max_features': 80, 'min_impurity_decrease': 0.0001, 'min_samples_leaf': 2}\n"
          ]
        }
      ],
      "source": [
        "# Best parameters identified.\n",
        "print(grid_clf.best_params_)"
      ]
    },
    {
      "cell_type": "code",
      "execution_count": 34,
      "metadata": {
        "colab": {
          "base_uri": "https://localhost:8080/"
        },
        "id": "sTMXaPNKSkjq",
        "outputId": "c72cf09d-686d-4b24-a12b-09a67127b568"
      },
      "outputs": [
        {
          "data": {
            "text/plain": [
              "np.float64(0.8076666666666666)"
            ]
          },
          "execution_count": 34,
          "metadata": {},
          "output_type": "execute_result"
        }
      ],
      "source": [
        "grid_clf.best_score_"
      ]
    },
    {
      "cell_type": "markdown",
      "metadata": {
        "id": "REIJ_76HebrO"
      },
      "source": [
        "## 4.3 Random Forest"
      ]
    },
    {
      "cell_type": "markdown",
      "metadata": {
        "id": "zNyN3k__uK3p"
      },
      "source": [
        "The Random Forest algorithm is trained, which combines the results of different decision trees to produce a more robust outcome. This model uses the same hyperparameters defined in the previous decision tree. This process is performed 3 times for the datasets defined earlier, with the goal of establishing the best metrics."
      ]
    },
    {
      "cell_type": "code",
      "execution_count": 78,
      "metadata": {
        "id": "yT--PfIctZ2R"
      },
      "outputs": [],
      "source": [
        "from sklearn.ensemble import RandomForestClassifier\n",
        "from sklearn.metrics import classification_report"
      ]
    },
    {
      "cell_type": "code",
      "execution_count": 79,
      "metadata": {
        "id": "O82Mm13dalmS"
      },
      "outputs": [],
      "source": [
        "random_forest_1 =  RandomForestClassifier(n_estimators=100,\n",
        "                                       max_depth=12,\n",
        "                                       min_impurity_decrease=0.0001,\n",
        "                                       criterion= 'entropy',\n",
        "                                       min_samples_leaf=8)\n",
        "random_forest_2 =  RandomForestClassifier(n_estimators=100,\n",
        "                                       max_depth=12,\n",
        "                                       min_impurity_decrease=0.0001,\n",
        "                                       criterion= 'entropy',\n",
        "                                       min_samples_leaf=8)\n",
        "random_forest_3 =  RandomForestClassifier(n_estimators=100,\n",
        "                                       max_depth=12,\n",
        "                                       min_impurity_decrease=0.0001,\n",
        "                                       criterion= 'entropy',\n",
        "                                       min_samples_leaf=8)\n",
        "\n",
        "# Models training\n",
        "random_forest_1.fit(X_train, y_train)\n",
        "random_forest_2.fit(X_train_norm, y_train)\n",
        "random_forest_3.fit(X_train_r, y_train)\n",
        "\n",
        "# Model prediction\n",
        "y_pred1 = random_forest_1.predict(X_test)\n",
        "y_pred2 = random_forest_2.predict(X_test_norm)\n",
        "y_pred3 =random_forest_3.predict(X_test_norm)"
      ]
    },
    {
      "cell_type": "code",
      "execution_count": 80,
      "metadata": {
        "colab": {
          "base_uri": "https://localhost:8080/"
        },
        "id": "hbh9kgBaalmS",
        "outputId": "98760449-496f-4f2b-acaa-a112f04d6519"
      },
      "outputs": [
        {
          "name": "stdout",
          "output_type": "stream",
          "text": [
            "Score of the model trained with original pixels: \n",
            "\n",
            "               precision    recall  f1-score   support\n",
            "\n",
            " T-shirt/top     0.7890    0.8490    0.8179      1000\n",
            "     Trouser     0.9918    0.9620    0.9766      1000\n",
            "    Pullover     0.7734    0.7780    0.7757      1000\n",
            "       Dress     0.8726    0.9250    0.8981      1000\n",
            "        Coat     0.7605    0.8480    0.8019      1000\n",
            "      Sandal     0.9706    0.9260    0.9478      1000\n",
            "       Shirt     0.7420    0.5550    0.6350      1000\n",
            "     Sneaker     0.9014    0.9140    0.9076      1000\n",
            "         Bag     0.9455    0.9710    0.9581      1000\n",
            "  Ankle boot     0.9146    0.9420    0.9281      1000\n",
            "\n",
            "    accuracy                         0.8670     10000\n",
            "   macro avg     0.8661    0.8670    0.8647     10000\n",
            "weighted avg     0.8661    0.8670    0.8647     10000\n",
            "\n",
            "Score of the model trained with normalized pixels: \n",
            "\n",
            "               precision    recall  f1-score   support\n",
            "\n",
            " T-shirt/top     0.7921    0.8570    0.8232      1000\n",
            "     Trouser     0.9877    0.9650    0.9762      1000\n",
            "    Pullover     0.7741    0.7780    0.7761      1000\n",
            "       Dress     0.8729    0.9270    0.8991      1000\n",
            "        Coat     0.7633    0.8450    0.8021      1000\n",
            "      Sandal     0.9757    0.9230    0.9486      1000\n",
            "       Shirt     0.7453    0.5530    0.6349      1000\n",
            "     Sneaker     0.8945    0.9160    0.9051      1000\n",
            "         Bag     0.9446    0.9710    0.9576      1000\n",
            "  Ankle boot     0.9124    0.9370    0.9245      1000\n",
            "\n",
            "    accuracy                         0.8672     10000\n",
            "   macro avg     0.8663    0.8672    0.8648     10000\n",
            "weighted avg     0.8663    0.8672    0.8648     10000\n",
            "\n",
            "Score of the model trained with dimensionality-reduced pixels: \n",
            "\n",
            "               precision    recall  f1-score   support\n",
            "\n",
            " T-shirt/top     0.7985    0.8400    0.8187      1000\n",
            "     Trouser     0.9806    0.9610    0.9707      1000\n",
            "    Pullover     0.7875    0.7560    0.7714      1000\n",
            "       Dress     0.8426    0.9260    0.8823      1000\n",
            "        Coat     0.7347    0.8640    0.7941      1000\n",
            "      Sandal     0.9241    0.9380    0.9310      1000\n",
            "       Shirt     0.7497    0.5360    0.6251      1000\n",
            "     Sneaker     0.8910    0.8990    0.8950      1000\n",
            "         Bag     0.9530    0.9520    0.9525      1000\n",
            "  Ankle boot     0.9246    0.9200    0.9223      1000\n",
            "\n",
            "    accuracy                         0.8592     10000\n",
            "   macro avg     0.8586    0.8592    0.8563     10000\n",
            "weighted avg     0.8586    0.8592    0.8563     10000\n",
            "\n"
          ]
        }
      ],
      "source": [
        "# Class names\n",
        "target_names = list(class_names.values())\n",
        "\n",
        "# Score\n",
        "report_1 = (classification_report(y_test, y_pred1, digits=4, target_names=target_names))\n",
        "report_2 = (classification_report(y_test, y_pred2, digits=4, target_names=target_names))\n",
        "report_3 = (classification_report(y_test, y_pred3, digits=4, target_names=target_names))\n",
        "\n",
        "# Print\n",
        "print(\"Score of the model trained with original pixels: \\n\\n\", report_1)\n",
        "print(\"Score of the model trained with normalized pixels: \\n\\n\", report_2)\n",
        "print(\"Score of the model trained with dimensionality-reduced pixels: \\n\\n\", report_3)"
      ]
    },
    {
      "cell_type": "markdown",
      "metadata": {
        "id": "cSE_VIrtncTo"
      },
      "source": [
        "## 4.4 Neural network"
      ]
    },
    {
      "cell_type": "code",
      "execution_count": 24,
      "metadata": {
        "id": "p8LBGYeynwFx"
      },
      "outputs": [],
      "source": [
        "from sklearn.neural_network import MLPClassifier\n",
        "from sklearn.metrics import classification_report"
      ]
    },
    {
      "cell_type": "code",
      "execution_count": 25,
      "metadata": {
        "id": "F0ejKP6Z5Fy0"
      },
      "outputs": [],
      "source": [
        "neural_network_1 = MLPClassifier(solver='adam',\n",
        "                    activation='relu',    # Activation function.\n",
        "                    max_iter=1000,        # Maximum number of iterations allowed.\n",
        "                    hidden_layer_sizes=(150,50),\n",
        "                    learning_rate='adaptive',\n",
        "                    early_stopping=True,\n",
        "                    alpha=0.01,\n",
        "                    )\n",
        "neural_network_2 = MLPClassifier(solver='adam',\n",
        "                    activation='relu',    # Activation function.\n",
        "                    max_iter=1000,        # Maximum number of iterations allowed.\n",
        "                    hidden_layer_sizes=(150,50),\n",
        "                    learning_rate='adaptive',\n",
        "                    early_stopping=True,\n",
        "                    alpha=0.01,\n",
        "                    )\n",
        "neural_network_3 = MLPClassifier(solver='adam',\n",
        "                    activation='relu',    # Activation function.\n",
        "                    max_iter=1000,        # Maximum number of iterations allowed.\n",
        "                    hidden_layer_sizes=(150,50),\n",
        "                    learning_rate='adaptive',\n",
        "                    early_stopping=True,\n",
        "                    alpha=0.01,\n",
        "                    )\n",
        "\n",
        "# Models training\n",
        "neural_network_1.fit(X_train, y_train)\n",
        "neural_network_2.fit(X_train_norm, y_train)\n",
        "neural_network_3.fit(X_train_r, y_train)\n",
        "\n",
        "# Model prediction\n",
        "y_pred1 = neural_network_1.predict(X_test)\n",
        "y_pred2 = neural_network_2.predict(X_test_norm)\n",
        "y_pred3 = neural_network_3.predict(X_test_norm)"
      ]
    },
    {
      "cell_type": "code",
      "execution_count": 26,
      "metadata": {
        "colab": {
          "base_uri": "https://localhost:8080/"
        },
        "id": "gF8-GFE55Fy1",
        "outputId": "71b9c92e-9213-44f4-cfa0-369e878107d6"
      },
      "outputs": [
        {
          "name": "stdout",
          "output_type": "stream",
          "text": [
            "Score of the model trained with original pixels: \n",
            "\n",
            "               precision    recall  f1-score   support\n",
            "\n",
            " T-shirt/top     0.8472    0.8150    0.8308      1000\n",
            "     Trouser     0.9782    0.9890    0.9836      1000\n",
            "    Pullover     0.8521    0.7780    0.8134      1000\n",
            "       Dress     0.8969    0.9130    0.9049      1000\n",
            "        Coat     0.8254    0.7940    0.8094      1000\n",
            "      Sandal     0.9752    0.9450    0.9599      1000\n",
            "       Shirt     0.6538    0.7460    0.6969      1000\n",
            "     Sneaker     0.9096    0.9660    0.9370      1000\n",
            "         Bag     0.9658    0.9590    0.9624      1000\n",
            "  Ankle boot     0.9670    0.9370    0.9518      1000\n",
            "\n",
            "    accuracy                         0.8842     10000\n",
            "   macro avg     0.8871    0.8842    0.8850     10000\n",
            "weighted avg     0.8871    0.8842    0.8850     10000\n",
            "\n",
            "Score of the model trained with normalized pixels: \n",
            "\n",
            "               precision    recall  f1-score   support\n",
            "\n",
            " T-shirt/top     0.8418    0.8090    0.8251      1000\n",
            "     Trouser     0.9889    0.9780    0.9834      1000\n",
            "    Pullover     0.8707    0.7410    0.8006      1000\n",
            "       Dress     0.8718    0.9320    0.9009      1000\n",
            "        Coat     0.8102    0.8710    0.8395      1000\n",
            "      Sandal     0.9733    0.9480    0.9605      1000\n",
            "       Shirt     0.6978    0.7460    0.7211      1000\n",
            "     Sneaker     0.9442    0.9310    0.9376      1000\n",
            "         Bag     0.9827    0.9680    0.9753      1000\n",
            "  Ankle boot     0.9308    0.9690    0.9495      1000\n",
            "\n",
            "    accuracy                         0.8893     10000\n",
            "   macro avg     0.8912    0.8893    0.8894     10000\n",
            "weighted avg     0.8912    0.8893    0.8894     10000\n",
            "\n",
            "Score of the model trained with dimensionality-reduced pixels: \n",
            "\n",
            "               precision    recall  f1-score   support\n",
            "\n",
            " T-shirt/top     0.8013    0.8950    0.8455      1000\n",
            "     Trouser     0.9802    0.9890    0.9846      1000\n",
            "    Pullover     0.8630    0.8060    0.8335      1000\n",
            "       Dress     0.8955    0.9250    0.9100      1000\n",
            "        Coat     0.8070    0.8820    0.8428      1000\n",
            "      Sandal     0.9705    0.9550    0.9627      1000\n",
            "       Shirt     0.7990    0.6520    0.7181      1000\n",
            "     Sneaker     0.9309    0.9560    0.9433      1000\n",
            "         Bag     0.9789    0.9750    0.9770      1000\n",
            "  Ankle boot     0.9606    0.9520    0.9563      1000\n",
            "\n",
            "    accuracy                         0.8987     10000\n",
            "   macro avg     0.8987    0.8987    0.8974     10000\n",
            "weighted avg     0.8987    0.8987    0.8974     10000\n",
            "\n"
          ]
        }
      ],
      "source": [
        "# Class names\n",
        "target_names = list(class_names.values())\n",
        "\n",
        "# Score\n",
        "report_1 = (classification_report(y_test, y_pred1, digits=4, target_names=target_names))\n",
        "report_2 = (classification_report(y_test, y_pred2, digits=4, target_names=target_names))\n",
        "report_3 = (classification_report(y_test, y_pred3, digits=4, target_names=target_names))\n",
        "\n",
        "# Print\n",
        "print(\"Score of the model trained with original pixels: \\n\\n\", report_1)\n",
        "print(\"Score of the model trained with normalized pixels: \\n\\n\", report_2)\n",
        "print(\"Score of the model trained with dimensionality-reduced pixels: \\n\\n\", report_3)"
      ]
    },
    {
      "cell_type": "code",
      "execution_count": 27,
      "metadata": {
        "colab": {
          "base_uri": "https://localhost:8080/"
        },
        "id": "OU7NRPRqM9GN",
        "outputId": "724c3152-a162-4931-8af4-cb1d5b1bd259"
      },
      "outputs": [
        {
          "data": {
            "text/plain": [
              "{'solver': ['adam'],\n",
              " 'activation': ['relu', 'tanh'],\n",
              " 'max_iter': [500, 1000],\n",
              " 'hidden_layer_sizes': [(100, 50), (100, 100), (150, 100)],\n",
              " 'alpha': [0.0001, 0.001, 0.01, 0.1],\n",
              " 'learning_rate': ['adaptive'],\n",
              " 'early_stopping': [True]}"
            ]
          },
          "execution_count": 27,
          "metadata": {},
          "output_type": "execute_result"
        }
      ],
      "source": [
        "# Hyperparameters must be in the form of a dictionary.\n",
        "param_grid = {'solver': ['adam'],\n",
        "              'activation' : ['relu','tanh'],\n",
        "              'max_iter' : [500,1000],\n",
        "              'hidden_layer_sizes': [(100,50),(100,100),(150,100)],\n",
        "              'alpha' : [0.0001,0.001,0.01,0.1],\n",
        "              'learning_rate' : ['adaptive'],\n",
        "              'early_stopping' : [True],\n",
        "              }\n",
        "\n",
        "param_grid"
      ]
    },
    {
      "cell_type": "code",
      "execution_count": 30,
      "metadata": {
        "colab": {
          "base_uri": "https://localhost:8080/",
          "height": 221
        },
        "id": "j_iLoQ40ueHB",
        "outputId": "1e65a329-2149-4665-d6b2-b56e41f4b7bc"
      },
      "outputs": [
        {
          "name": "stderr",
          "output_type": "stream",
          "text": [
            "/usr/local/lib/python3.11/dist-packages/sklearn/model_selection/_search.py:317: UserWarning: The total space of parameters 4 is smaller than n_iter=10. Running 4 iterations. For exhaustive searches, use GridSearchCV.\n",
            "  warnings.warn(\n"
          ]
        },
        {
          "data": {
            "text/html": [
              "<style>#sk-container-id-1 {\n",
              "  /* Definition of color scheme common for light and dark mode */\n",
              "  --sklearn-color-text: #000;\n",
              "  --sklearn-color-text-muted: #666;\n",
              "  --sklearn-color-line: gray;\n",
              "  /* Definition of color scheme for unfitted estimators */\n",
              "  --sklearn-color-unfitted-level-0: #fff5e6;\n",
              "  --sklearn-color-unfitted-level-1: #f6e4d2;\n",
              "  --sklearn-color-unfitted-level-2: #ffe0b3;\n",
              "  --sklearn-color-unfitted-level-3: chocolate;\n",
              "  /* Definition of color scheme for fitted estimators */\n",
              "  --sklearn-color-fitted-level-0: #f0f8ff;\n",
              "  --sklearn-color-fitted-level-1: #d4ebff;\n",
              "  --sklearn-color-fitted-level-2: #b3dbfd;\n",
              "  --sklearn-color-fitted-level-3: cornflowerblue;\n",
              "\n",
              "  /* Specific color for light theme */\n",
              "  --sklearn-color-text-on-default-background: var(--sg-text-color, var(--theme-code-foreground, var(--jp-content-font-color1, black)));\n",
              "  --sklearn-color-background: var(--sg-background-color, var(--theme-background, var(--jp-layout-color0, white)));\n",
              "  --sklearn-color-border-box: var(--sg-text-color, var(--theme-code-foreground, var(--jp-content-font-color1, black)));\n",
              "  --sklearn-color-icon: #696969;\n",
              "\n",
              "  @media (prefers-color-scheme: dark) {\n",
              "    /* Redefinition of color scheme for dark theme */\n",
              "    --sklearn-color-text-on-default-background: var(--sg-text-color, var(--theme-code-foreground, var(--jp-content-font-color1, white)));\n",
              "    --sklearn-color-background: var(--sg-background-color, var(--theme-background, var(--jp-layout-color0, #111)));\n",
              "    --sklearn-color-border-box: var(--sg-text-color, var(--theme-code-foreground, var(--jp-content-font-color1, white)));\n",
              "    --sklearn-color-icon: #878787;\n",
              "  }\n",
              "}\n",
              "\n",
              "#sk-container-id-1 {\n",
              "  color: var(--sklearn-color-text);\n",
              "}\n",
              "\n",
              "#sk-container-id-1 pre {\n",
              "  padding: 0;\n",
              "}\n",
              "\n",
              "#sk-container-id-1 input.sk-hidden--visually {\n",
              "  border: 0;\n",
              "  clip: rect(1px 1px 1px 1px);\n",
              "  clip: rect(1px, 1px, 1px, 1px);\n",
              "  height: 1px;\n",
              "  margin: -1px;\n",
              "  overflow: hidden;\n",
              "  padding: 0;\n",
              "  position: absolute;\n",
              "  width: 1px;\n",
              "}\n",
              "\n",
              "#sk-container-id-1 div.sk-dashed-wrapped {\n",
              "  border: 1px dashed var(--sklearn-color-line);\n",
              "  margin: 0 0.4em 0.5em 0.4em;\n",
              "  box-sizing: border-box;\n",
              "  padding-bottom: 0.4em;\n",
              "  background-color: var(--sklearn-color-background);\n",
              "}\n",
              "\n",
              "#sk-container-id-1 div.sk-container {\n",
              "  /* jupyter's `normalize.less` sets `[hidden] { display: none; }`\n",
              "     but bootstrap.min.css set `[hidden] { display: none !important; }`\n",
              "     so we also need the `!important` here to be able to override the\n",
              "     default hidden behavior on the sphinx rendered scikit-learn.org.\n",
              "     See: https://github.com/scikit-learn/scikit-learn/issues/21755 */\n",
              "  display: inline-block !important;\n",
              "  position: relative;\n",
              "}\n",
              "\n",
              "#sk-container-id-1 div.sk-text-repr-fallback {\n",
              "  display: none;\n",
              "}\n",
              "\n",
              "div.sk-parallel-item,\n",
              "div.sk-serial,\n",
              "div.sk-item {\n",
              "  /* draw centered vertical line to link estimators */\n",
              "  background-image: linear-gradient(var(--sklearn-color-text-on-default-background), var(--sklearn-color-text-on-default-background));\n",
              "  background-size: 2px 100%;\n",
              "  background-repeat: no-repeat;\n",
              "  background-position: center center;\n",
              "}\n",
              "\n",
              "/* Parallel-specific style estimator block */\n",
              "\n",
              "#sk-container-id-1 div.sk-parallel-item::after {\n",
              "  content: \"\";\n",
              "  width: 100%;\n",
              "  border-bottom: 2px solid var(--sklearn-color-text-on-default-background);\n",
              "  flex-grow: 1;\n",
              "}\n",
              "\n",
              "#sk-container-id-1 div.sk-parallel {\n",
              "  display: flex;\n",
              "  align-items: stretch;\n",
              "  justify-content: center;\n",
              "  background-color: var(--sklearn-color-background);\n",
              "  position: relative;\n",
              "}\n",
              "\n",
              "#sk-container-id-1 div.sk-parallel-item {\n",
              "  display: flex;\n",
              "  flex-direction: column;\n",
              "}\n",
              "\n",
              "#sk-container-id-1 div.sk-parallel-item:first-child::after {\n",
              "  align-self: flex-end;\n",
              "  width: 50%;\n",
              "}\n",
              "\n",
              "#sk-container-id-1 div.sk-parallel-item:last-child::after {\n",
              "  align-self: flex-start;\n",
              "  width: 50%;\n",
              "}\n",
              "\n",
              "#sk-container-id-1 div.sk-parallel-item:only-child::after {\n",
              "  width: 0;\n",
              "}\n",
              "\n",
              "/* Serial-specific style estimator block */\n",
              "\n",
              "#sk-container-id-1 div.sk-serial {\n",
              "  display: flex;\n",
              "  flex-direction: column;\n",
              "  align-items: center;\n",
              "  background-color: var(--sklearn-color-background);\n",
              "  padding-right: 1em;\n",
              "  padding-left: 1em;\n",
              "}\n",
              "\n",
              "\n",
              "/* Toggleable style: style used for estimator/Pipeline/ColumnTransformer box that is\n",
              "clickable and can be expanded/collapsed.\n",
              "- Pipeline and ColumnTransformer use this feature and define the default style\n",
              "- Estimators will overwrite some part of the style using the `sk-estimator` class\n",
              "*/\n",
              "\n",
              "/* Pipeline and ColumnTransformer style (default) */\n",
              "\n",
              "#sk-container-id-1 div.sk-toggleable {\n",
              "  /* Default theme specific background. It is overwritten whether we have a\n",
              "  specific estimator or a Pipeline/ColumnTransformer */\n",
              "  background-color: var(--sklearn-color-background);\n",
              "}\n",
              "\n",
              "/* Toggleable label */\n",
              "#sk-container-id-1 label.sk-toggleable__label {\n",
              "  cursor: pointer;\n",
              "  display: flex;\n",
              "  width: 100%;\n",
              "  margin-bottom: 0;\n",
              "  padding: 0.5em;\n",
              "  box-sizing: border-box;\n",
              "  text-align: center;\n",
              "  align-items: start;\n",
              "  justify-content: space-between;\n",
              "  gap: 0.5em;\n",
              "}\n",
              "\n",
              "#sk-container-id-1 label.sk-toggleable__label .caption {\n",
              "  font-size: 0.6rem;\n",
              "  font-weight: lighter;\n",
              "  color: var(--sklearn-color-text-muted);\n",
              "}\n",
              "\n",
              "#sk-container-id-1 label.sk-toggleable__label-arrow:before {\n",
              "  /* Arrow on the left of the label */\n",
              "  content: \"▸\";\n",
              "  float: left;\n",
              "  margin-right: 0.25em;\n",
              "  color: var(--sklearn-color-icon);\n",
              "}\n",
              "\n",
              "#sk-container-id-1 label.sk-toggleable__label-arrow:hover:before {\n",
              "  color: var(--sklearn-color-text);\n",
              "}\n",
              "\n",
              "/* Toggleable content - dropdown */\n",
              "\n",
              "#sk-container-id-1 div.sk-toggleable__content {\n",
              "  max-height: 0;\n",
              "  max-width: 0;\n",
              "  overflow: hidden;\n",
              "  text-align: left;\n",
              "  /* unfitted */\n",
              "  background-color: var(--sklearn-color-unfitted-level-0);\n",
              "}\n",
              "\n",
              "#sk-container-id-1 div.sk-toggleable__content.fitted {\n",
              "  /* fitted */\n",
              "  background-color: var(--sklearn-color-fitted-level-0);\n",
              "}\n",
              "\n",
              "#sk-container-id-1 div.sk-toggleable__content pre {\n",
              "  margin: 0.2em;\n",
              "  border-radius: 0.25em;\n",
              "  color: var(--sklearn-color-text);\n",
              "  /* unfitted */\n",
              "  background-color: var(--sklearn-color-unfitted-level-0);\n",
              "}\n",
              "\n",
              "#sk-container-id-1 div.sk-toggleable__content.fitted pre {\n",
              "  /* unfitted */\n",
              "  background-color: var(--sklearn-color-fitted-level-0);\n",
              "}\n",
              "\n",
              "#sk-container-id-1 input.sk-toggleable__control:checked~div.sk-toggleable__content {\n",
              "  /* Expand drop-down */\n",
              "  max-height: 200px;\n",
              "  max-width: 100%;\n",
              "  overflow: auto;\n",
              "}\n",
              "\n",
              "#sk-container-id-1 input.sk-toggleable__control:checked~label.sk-toggleable__label-arrow:before {\n",
              "  content: \"▾\";\n",
              "}\n",
              "\n",
              "/* Pipeline/ColumnTransformer-specific style */\n",
              "\n",
              "#sk-container-id-1 div.sk-label input.sk-toggleable__control:checked~label.sk-toggleable__label {\n",
              "  color: var(--sklearn-color-text);\n",
              "  background-color: var(--sklearn-color-unfitted-level-2);\n",
              "}\n",
              "\n",
              "#sk-container-id-1 div.sk-label.fitted input.sk-toggleable__control:checked~label.sk-toggleable__label {\n",
              "  background-color: var(--sklearn-color-fitted-level-2);\n",
              "}\n",
              "\n",
              "/* Estimator-specific style */\n",
              "\n",
              "/* Colorize estimator box */\n",
              "#sk-container-id-1 div.sk-estimator input.sk-toggleable__control:checked~label.sk-toggleable__label {\n",
              "  /* unfitted */\n",
              "  background-color: var(--sklearn-color-unfitted-level-2);\n",
              "}\n",
              "\n",
              "#sk-container-id-1 div.sk-estimator.fitted input.sk-toggleable__control:checked~label.sk-toggleable__label {\n",
              "  /* fitted */\n",
              "  background-color: var(--sklearn-color-fitted-level-2);\n",
              "}\n",
              "\n",
              "#sk-container-id-1 div.sk-label label.sk-toggleable__label,\n",
              "#sk-container-id-1 div.sk-label label {\n",
              "  /* The background is the default theme color */\n",
              "  color: var(--sklearn-color-text-on-default-background);\n",
              "}\n",
              "\n",
              "/* On hover, darken the color of the background */\n",
              "#sk-container-id-1 div.sk-label:hover label.sk-toggleable__label {\n",
              "  color: var(--sklearn-color-text);\n",
              "  background-color: var(--sklearn-color-unfitted-level-2);\n",
              "}\n",
              "\n",
              "/* Label box, darken color on hover, fitted */\n",
              "#sk-container-id-1 div.sk-label.fitted:hover label.sk-toggleable__label.fitted {\n",
              "  color: var(--sklearn-color-text);\n",
              "  background-color: var(--sklearn-color-fitted-level-2);\n",
              "}\n",
              "\n",
              "/* Estimator label */\n",
              "\n",
              "#sk-container-id-1 div.sk-label label {\n",
              "  font-family: monospace;\n",
              "  font-weight: bold;\n",
              "  display: inline-block;\n",
              "  line-height: 1.2em;\n",
              "}\n",
              "\n",
              "#sk-container-id-1 div.sk-label-container {\n",
              "  text-align: center;\n",
              "}\n",
              "\n",
              "/* Estimator-specific */\n",
              "#sk-container-id-1 div.sk-estimator {\n",
              "  font-family: monospace;\n",
              "  border: 1px dotted var(--sklearn-color-border-box);\n",
              "  border-radius: 0.25em;\n",
              "  box-sizing: border-box;\n",
              "  margin-bottom: 0.5em;\n",
              "  /* unfitted */\n",
              "  background-color: var(--sklearn-color-unfitted-level-0);\n",
              "}\n",
              "\n",
              "#sk-container-id-1 div.sk-estimator.fitted {\n",
              "  /* fitted */\n",
              "  background-color: var(--sklearn-color-fitted-level-0);\n",
              "}\n",
              "\n",
              "/* on hover */\n",
              "#sk-container-id-1 div.sk-estimator:hover {\n",
              "  /* unfitted */\n",
              "  background-color: var(--sklearn-color-unfitted-level-2);\n",
              "}\n",
              "\n",
              "#sk-container-id-1 div.sk-estimator.fitted:hover {\n",
              "  /* fitted */\n",
              "  background-color: var(--sklearn-color-fitted-level-2);\n",
              "}\n",
              "\n",
              "/* Specification for estimator info (e.g. \"i\" and \"?\") */\n",
              "\n",
              "/* Common style for \"i\" and \"?\" */\n",
              "\n",
              ".sk-estimator-doc-link,\n",
              "a:link.sk-estimator-doc-link,\n",
              "a:visited.sk-estimator-doc-link {\n",
              "  float: right;\n",
              "  font-size: smaller;\n",
              "  line-height: 1em;\n",
              "  font-family: monospace;\n",
              "  background-color: var(--sklearn-color-background);\n",
              "  border-radius: 1em;\n",
              "  height: 1em;\n",
              "  width: 1em;\n",
              "  text-decoration: none !important;\n",
              "  margin-left: 0.5em;\n",
              "  text-align: center;\n",
              "  /* unfitted */\n",
              "  border: var(--sklearn-color-unfitted-level-1) 1pt solid;\n",
              "  color: var(--sklearn-color-unfitted-level-1);\n",
              "}\n",
              "\n",
              ".sk-estimator-doc-link.fitted,\n",
              "a:link.sk-estimator-doc-link.fitted,\n",
              "a:visited.sk-estimator-doc-link.fitted {\n",
              "  /* fitted */\n",
              "  border: var(--sklearn-color-fitted-level-1) 1pt solid;\n",
              "  color: var(--sklearn-color-fitted-level-1);\n",
              "}\n",
              "\n",
              "/* On hover */\n",
              "div.sk-estimator:hover .sk-estimator-doc-link:hover,\n",
              ".sk-estimator-doc-link:hover,\n",
              "div.sk-label-container:hover .sk-estimator-doc-link:hover,\n",
              ".sk-estimator-doc-link:hover {\n",
              "  /* unfitted */\n",
              "  background-color: var(--sklearn-color-unfitted-level-3);\n",
              "  color: var(--sklearn-color-background);\n",
              "  text-decoration: none;\n",
              "}\n",
              "\n",
              "div.sk-estimator.fitted:hover .sk-estimator-doc-link.fitted:hover,\n",
              ".sk-estimator-doc-link.fitted:hover,\n",
              "div.sk-label-container:hover .sk-estimator-doc-link.fitted:hover,\n",
              ".sk-estimator-doc-link.fitted:hover {\n",
              "  /* fitted */\n",
              "  background-color: var(--sklearn-color-fitted-level-3);\n",
              "  color: var(--sklearn-color-background);\n",
              "  text-decoration: none;\n",
              "}\n",
              "\n",
              "/* Span, style for the box shown on hovering the info icon */\n",
              ".sk-estimator-doc-link span {\n",
              "  display: none;\n",
              "  z-index: 9999;\n",
              "  position: relative;\n",
              "  font-weight: normal;\n",
              "  right: .2ex;\n",
              "  padding: .5ex;\n",
              "  margin: .5ex;\n",
              "  width: min-content;\n",
              "  min-width: 20ex;\n",
              "  max-width: 50ex;\n",
              "  color: var(--sklearn-color-text);\n",
              "  box-shadow: 2pt 2pt 4pt #999;\n",
              "  /* unfitted */\n",
              "  background: var(--sklearn-color-unfitted-level-0);\n",
              "  border: .5pt solid var(--sklearn-color-unfitted-level-3);\n",
              "}\n",
              "\n",
              ".sk-estimator-doc-link.fitted span {\n",
              "  /* fitted */\n",
              "  background: var(--sklearn-color-fitted-level-0);\n",
              "  border: var(--sklearn-color-fitted-level-3);\n",
              "}\n",
              "\n",
              ".sk-estimator-doc-link:hover span {\n",
              "  display: block;\n",
              "}\n",
              "\n",
              "/* \"?\"-specific style due to the `<a>` HTML tag */\n",
              "\n",
              "#sk-container-id-1 a.estimator_doc_link {\n",
              "  float: right;\n",
              "  font-size: 1rem;\n",
              "  line-height: 1em;\n",
              "  font-family: monospace;\n",
              "  background-color: var(--sklearn-color-background);\n",
              "  border-radius: 1rem;\n",
              "  height: 1rem;\n",
              "  width: 1rem;\n",
              "  text-decoration: none;\n",
              "  /* unfitted */\n",
              "  color: var(--sklearn-color-unfitted-level-1);\n",
              "  border: var(--sklearn-color-unfitted-level-1) 1pt solid;\n",
              "}\n",
              "\n",
              "#sk-container-id-1 a.estimator_doc_link.fitted {\n",
              "  /* fitted */\n",
              "  border: var(--sklearn-color-fitted-level-1) 1pt solid;\n",
              "  color: var(--sklearn-color-fitted-level-1);\n",
              "}\n",
              "\n",
              "/* On hover */\n",
              "#sk-container-id-1 a.estimator_doc_link:hover {\n",
              "  /* unfitted */\n",
              "  background-color: var(--sklearn-color-unfitted-level-3);\n",
              "  color: var(--sklearn-color-background);\n",
              "  text-decoration: none;\n",
              "}\n",
              "\n",
              "#sk-container-id-1 a.estimator_doc_link.fitted:hover {\n",
              "  /* fitted */\n",
              "  background-color: var(--sklearn-color-fitted-level-3);\n",
              "}\n",
              "</style><div id=\"sk-container-id-1\" class=\"sk-top-container\"><div class=\"sk-text-repr-fallback\"><pre>RandomizedSearchCV(cv=3, estimator=MLPClassifier(), n_jobs=-1,\n",
              "                   param_distributions={&#x27;activation&#x27;: [&#x27;relu&#x27;],\n",
              "                                        &#x27;alpha&#x27;: [0.0001, 0.001],\n",
              "                                        &#x27;hidden_layer_sizes&#x27;: [(50,), (100,)],\n",
              "                                        &#x27;solver&#x27;: [&#x27;adam&#x27;]})</pre><b>In a Jupyter environment, please rerun this cell to show the HTML representation or trust the notebook. <br />On GitHub, the HTML representation is unable to render, please try loading this page with nbviewer.org.</b></div><div class=\"sk-container\" hidden><div class=\"sk-item sk-dashed-wrapped\"><div class=\"sk-label-container\"><div class=\"sk-label fitted sk-toggleable\"><input class=\"sk-toggleable__control sk-hidden--visually\" id=\"sk-estimator-id-1\" type=\"checkbox\" ><label for=\"sk-estimator-id-1\" class=\"sk-toggleable__label fitted sk-toggleable__label-arrow\"><div><div>RandomizedSearchCV</div></div><div><a class=\"sk-estimator-doc-link fitted\" rel=\"noreferrer\" target=\"_blank\" href=\"https://scikit-learn.org/1.6/modules/generated/sklearn.model_selection.RandomizedSearchCV.html\">?<span>Documentation for RandomizedSearchCV</span></a><span class=\"sk-estimator-doc-link fitted\">i<span>Fitted</span></span></div></label><div class=\"sk-toggleable__content fitted\"><pre>RandomizedSearchCV(cv=3, estimator=MLPClassifier(), n_jobs=-1,\n",
              "                   param_distributions={&#x27;activation&#x27;: [&#x27;relu&#x27;],\n",
              "                                        &#x27;alpha&#x27;: [0.0001, 0.001],\n",
              "                                        &#x27;hidden_layer_sizes&#x27;: [(50,), (100,)],\n",
              "                                        &#x27;solver&#x27;: [&#x27;adam&#x27;]})</pre></div> </div></div><div class=\"sk-parallel\"><div class=\"sk-parallel-item\"><div class=\"sk-item\"><div class=\"sk-label-container\"><div class=\"sk-label fitted sk-toggleable\"><input class=\"sk-toggleable__control sk-hidden--visually\" id=\"sk-estimator-id-2\" type=\"checkbox\" ><label for=\"sk-estimator-id-2\" class=\"sk-toggleable__label fitted sk-toggleable__label-arrow\"><div><div>best_estimator_: MLPClassifier</div></div></label><div class=\"sk-toggleable__content fitted\"><pre>MLPClassifier()</pre></div> </div></div><div class=\"sk-serial\"><div class=\"sk-item\"><div class=\"sk-estimator fitted sk-toggleable\"><input class=\"sk-toggleable__control sk-hidden--visually\" id=\"sk-estimator-id-3\" type=\"checkbox\" ><label for=\"sk-estimator-id-3\" class=\"sk-toggleable__label fitted sk-toggleable__label-arrow\"><div><div>MLPClassifier</div></div><div><a class=\"sk-estimator-doc-link fitted\" rel=\"noreferrer\" target=\"_blank\" href=\"https://scikit-learn.org/1.6/modules/generated/sklearn.neural_network.MLPClassifier.html\">?<span>Documentation for MLPClassifier</span></a></div></label><div class=\"sk-toggleable__content fitted\"><pre>MLPClassifier()</pre></div> </div></div></div></div></div></div></div></div></div>"
            ],
            "text/plain": [
              "RandomizedSearchCV(cv=3, estimator=MLPClassifier(), n_jobs=-1,\n",
              "                   param_distributions={'activation': ['relu'],\n",
              "                                        'alpha': [0.0001, 0.001],\n",
              "                                        'hidden_layer_sizes': [(50,), (100,)],\n",
              "                                        'solver': ['adam']})"
            ]
          },
          "execution_count": 30,
          "metadata": {},
          "output_type": "execute_result"
        }
      ],
      "source": [
        "from sklearn.model_selection import RandomizedSearchCV\n",
        "from sklearn.neural_network import MLPClassifier\n",
        "\n",
        "NN_classifier_2 = MLPClassifier(\n",
        "                    )\n",
        "\n",
        "# Define a reduced search space\n",
        "param_grid = {\n",
        "    'hidden_layer_sizes': [(50,), (100,)],  # Only 2 options\n",
        "    'activation': ['relu'],                 # Only one activation function\n",
        "    'solver': ['adam'],                     # Only one optimizer\n",
        "    'alpha': [0.0001, 0.001],               # Only 2 regularization values\n",
        "}\n",
        "\n",
        "# Configure RandomizedSearchCV with parallelism\n",
        "grid_clf = RandomizedSearchCV(\n",
        "    NN_classifier_2,\n",
        "    param_distributions=param_grid,\n",
        "    n_iter=10,  # Test only 10 random combinations\n",
        "    cv=3,       # 3-fold cross-validation\n",
        "    n_jobs=-1   # Use all available CPU cores\n",
        ")\n",
        "\n",
        "# Fit the model\n",
        "grid_clf.fit(X_train, y_train)"
      ]
    },
    {
      "cell_type": "code",
      "execution_count": 31,
      "metadata": {
        "colab": {
          "base_uri": "https://localhost:8080/"
        },
        "id": "jytOmcEBM9GO",
        "outputId": "bb37841d-3b39-42f7-c60d-a1bf1ebc2e9c"
      },
      "outputs": [
        {
          "name": "stdout",
          "output_type": "stream",
          "text": [
            "{'solver': 'adam', 'hidden_layer_sizes': (100,), 'alpha': 0.0001, 'activation': 'relu'}\n"
          ]
        }
      ],
      "source": [
        "# Best parameters identified.\n",
        "print(grid_clf.best_params_)"
      ]
    },
    {
      "cell_type": "code",
      "execution_count": 32,
      "metadata": {
        "colab": {
          "base_uri": "https://localhost:8080/"
        },
        "id": "6YRLYgTGM9GO",
        "outputId": "c9d0f668-32e9-49c6-ea49-f35e574dbe9c"
      },
      "outputs": [
        {
          "name": "stdout",
          "output_type": "stream",
          "text": [
            "0.8574666666666667\n"
          ]
        }
      ],
      "source": [
        "print(grid_clf.best_score_)"
      ]
    },
    {
      "cell_type": "markdown",
      "metadata": {
        "id": "0aRQUo9K6BMP"
      },
      "source": [
        "# 5. Evaluation"
      ]
    },
    {
      "cell_type": "markdown",
      "metadata": {
        "id": "YzoOgY6m-Ai1"
      },
      "source": [
        "### Comparison of Metrics for the Trained Models"
      ]
    },
    {
      "cell_type": "code",
      "execution_count": 81,
      "metadata": {
        "id": "u7Op5LWNjs3-"
      },
      "outputs": [],
      "source": [
        "import seaborn as sns\n",
        "\n",
        "data_precision = {\n",
        "    \"precision\": ['KNN', 'Decision Three Classifier', 'Random Forest', 'Neural Network(MLP)'],\n",
        "    \"values\": [86.67, 82.00, 86.82, 89.25]\n",
        "}\n",
        "\n",
        "data_recall = {\n",
        "    \"recall\": ['KNN', 'Decision Three Classifier', 'Random Forest', 'Neural Network(MLP)'],\n",
        "    \"values\": [85.73, 82.14, 86.88, 89.23]\n",
        "}\n",
        "\n",
        "data_f1_score = {\n",
        "    \"f1-score\": ['KNN', 'Decision Three Classifier', 'Random Forest', 'Neural Network(MLP)'],\n",
        "    \"values\": [86.51, 82.02, 86.65, 89.13]\n",
        "}\n",
        "\n",
        "def metric_grafic(df, metric):\n",
        "    plt.figure(figsize=(8, 4))\n",
        "    sns.set(style=\"whitegrid\")\n",
        "\n",
        "    # Load bars graph\n",
        "    barplot = sns.barplot(x=metric, y='values', data=df)\n",
        "\n",
        "    titulo = metric.capitalize()\n",
        "    plt.title(titulo, fontsize=18)\n",
        "    plt.xlabel(\"Model\", fontsize=14)\n",
        "    plt.ylabel(\"Values (%)\", fontsize=14)\n",
        "    plt.xticks(fontsize=7, rotation=30)\n",
        "    plt.yticks(fontsize=7)\n",
        "\n",
        "    # Bars above labels\n",
        "    for index, row in df.iterrows():\n",
        "        value_as_percentage = f'{row[\"values\"]:.2f}%'\n",
        "        barplot.text(index, row['values'], value_as_percentage, color='black', ha=\"center\", fontsize=10)\n",
        "\n",
        "df_precision = pd.DataFrame(data_precision)\n",
        "df_recall = pd.DataFrame(data_recall)\n",
        "df_f1_score = pd.DataFrame(data_f1_score)"
      ]
    },
    {
      "cell_type": "code",
      "execution_count": 82,
      "metadata": {
        "colab": {
          "base_uri": "https://localhost:8080/",
          "height": 478
        },
        "id": "OwYuu7JslGJO",
        "outputId": "42a19ae3-7edd-4f8c-a138-01bef070a713"
      },
      "outputs": [
        {
          "data": {
            "image/png": "[encoded data removed]",
            "text/plain": [
              "<Figure size 800x400 with 1 Axes>"
            ]
          },
          "metadata": {},
          "output_type": "display_data"
        }
      ],
      "source": [
        "metric_grafic(df_precision, \"precision\")"
      ]
    },
    {
      "cell_type": "code",
      "execution_count": 83,
      "metadata": {
        "colab": {
          "base_uri": "https://localhost:8080/",
          "height": 478
        },
        "id": "OS6lK2XylJvT",
        "outputId": "77572cb9-de00-4cb5-8719-de4b99a5bdf0"
      },
      "outputs": [
        {
          "data": {
            "image/png": "[encoded data removed]",
            "text/plain": [
              "<Figure size 800x400 with 1 Axes>"
            ]
          },
          "metadata": {},
          "output_type": "display_data"
        }
      ],
      "source": [
        "metric_grafic(df_recall, \"recall\")"
      ]
    },
    {
      "cell_type": "code",
      "execution_count": 84,
      "metadata": {
        "colab": {
          "base_uri": "https://localhost:8080/",
          "height": 478
        },
        "id": "dHpxHIaGlNZH",
        "outputId": "971695b7-70a7-4ccf-cc26-bc94bb604c66"
      },
      "outputs": [
        {
          "data": {
            "image/png": "[encoded data removed]",
            "text/plain": [
              "<Figure size 800x400 with 1 Axes>"
            ]
          },
          "metadata": {},
          "output_type": "display_data"
        }
      ],
      "source": [
        "metric_grafic(df_f1_score, \"f1-score\")"
      ]
    },
    {
      "cell_type": "markdown",
      "metadata": {
        "id": "d5CLZ1DyDvCv"
      },
      "source": [
        "# 6. Model Exports"
      ]
    },
    {
      "cell_type": "markdown",
      "metadata": {
        "id": "HFk45LyLUn4U"
      },
      "source": [
        "In this section, the models are exported in .pkl format so they can be used outside the notebook."
      ]
    },
    {
      "cell_type": "markdown",
      "metadata": {
        "id": "dyEHp25lyCDT"
      },
      "source": [
        "## 6.1 KNN"
      ]
    },
    {
      "cell_type": "code",
      "execution_count": 85,
      "metadata": {
        "colab": {
          "base_uri": "https://localhost:8080/"
        },
        "id": "aLBBTAyFDxON",
        "outputId": "15da4552-f28a-4f1f-fb8e-0ddcadd8b478"
      },
      "outputs": [
        {
          "data": {
            "text/plain": [
              "['knn.pkl']"
            ]
          },
          "execution_count": 85,
          "metadata": {},
          "output_type": "execute_result"
        }
      ],
      "source": [
        "from joblib import dump\n",
        "\n",
        "# Save model to .pks\n",
        "dump(knn_3, '../models/knn.pkl')"
      ]
    },
    {
      "cell_type": "markdown",
      "metadata": {
        "id": "QUCu8ysfb93D"
      },
      "source": [
        "## 6.2 Decision Three Classifier"
      ]
    },
    {
      "cell_type": "code",
      "execution_count": 86,
      "metadata": {
        "colab": {
          "base_uri": "https://localhost:8080/"
        },
        "id": "KpPu0LpCcQoi",
        "outputId": "084d3274-fa48-481a-8ff1-edf0eb3de0c6"
      },
      "outputs": [
        {
          "data": {
            "text/plain": [
              "['tree.pkl']"
            ]
          },
          "execution_count": 86,
          "metadata": {},
          "output_type": "execute_result"
        }
      ],
      "source": [
        "# Save model to .pks\n",
        "dump(decision_three_1, '../models/tree.pkl')"
      ]
    },
    {
      "cell_type": "markdown",
      "metadata": {
        "id": "9CK4KvNWcLrA"
      },
      "source": [
        "## 6.3 Random Forest"
      ]
    },
    {
      "cell_type": "code",
      "execution_count": 87,
      "metadata": {
        "colab": {
          "base_uri": "https://localhost:8080/"
        },
        "id": "0dB2COnycR7i",
        "outputId": "fe05f5c3-c262-4d3f-d05b-4af4881a977a"
      },
      "outputs": [
        {
          "data": {
            "text/plain": [
              "['random_forest.pkl']"
            ]
          },
          "execution_count": 87,
          "metadata": {},
          "output_type": "execute_result"
        }
      ],
      "source": [
        "# Save model to .pks\n",
        "dump(random_forest_1, '../models/random_forest.pkl')"
      ]
    },
    {
      "cell_type": "markdown",
      "metadata": {
        "id": "rP-WBI_vyIei"
      },
      "source": [
        "## 6.4 Red Neuronal"
      ]
    },
    {
      "cell_type": "code",
      "execution_count": 88,
      "metadata": {
        "colab": {
          "base_uri": "https://localhost:8080/"
        },
        "id": "UsPzT_LByMCl",
        "outputId": "6f0fba4e-11e9-4e2a-9457-66965ad528d0"
      },
      "outputs": [
        {
          "data": {
            "text/plain": [
              "['nn.pkl']"
            ]
          },
          "execution_count": 88,
          "metadata": {},
          "output_type": "execute_result"
        }
      ],
      "source": [
        "# Save model to .pks\n",
        "dump(neural_network_2,  '../models/nn.pkl')"
      ]
    }
  ],
  "metadata": {
    "colab": {
      "provenance": []
    },
    "kernelspec": {
      "display_name": ".venv",
      "language": "python",
      "name": "python3"
    },
    "language_info": {
      "codemirror_mode": {
        "name": "ipython",
        "version": 3
      },
      "file_extension": ".py",
      "mimetype": "text/x-python",
      "name": "python",
      "nbconvert_exporter": "python",
      "pygments_lexer": "ipython3",
      "version": "3.12.1"
    }
  },
  "nbformat": 4,
  "nbformat_minor": 0
}
